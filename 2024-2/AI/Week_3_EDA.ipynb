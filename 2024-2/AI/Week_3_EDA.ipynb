{
  "nbformat": 4,
  "nbformat_minor": 0,
  "metadata": {
    "colab": {
      "provenance": []
    },
    "kernelspec": {
      "name": "python3",
      "display_name": "Python 3"
    },
    "language_info": {
      "name": "python"
    }
  },
  "cells": [
    {
      "cell_type": "markdown",
      "source": [
        "Data Science\n",
        "===\n",
        "is the core technology of the AI, Artificial Intelligence,\n",
        "\n",
        "```\n",
        "During the 228 vocation, CHANGHUA CHRISTIAN HOSPITAL, 彰化督教醫院, was attacked by ramsomeware,\n",
        "patient list ofMacKay Memorial Hospital. 馬偕醫院, was stolen by hackers.\n",
        "```\n",
        "\n",
        "Infomation security\n",
        "---\n",
        "What happens:\n",
        "1. software older, Docher\n",
        "2. un-secures atabase management tools"
      ],
      "metadata": {
        "id": "Y5eEY5zxkOrs"
      }
    },
    {
      "cell_type": "code",
      "source": [
        "!uname -a"
      ],
      "metadata": {
        "id": "Lv08-sVM5fjC"
      },
      "execution_count": null,
      "outputs": []
    },
    {
      "cell_type": "markdown",
      "source": [
        "Exploratory Data Analysis, EDA\n",
        "==="
      ],
      "metadata": {
        "id": "S9iEbhrgGN5z"
      }
    },
    {
      "cell_type": "code",
      "execution_count": null,
      "metadata": {
        "id": "zcKBNCB4GNPR"
      },
      "outputs": [],
      "source": [
        "import pandas as pd\n",
        "\n",
        "import matplotlib.pyplot as plt\n",
        "import seaborn as sns\n",
        "import plotly.express as px\n",
        "\n",
        "import datetime as dt\n",
        "\n",
        "# doawnload financial data from yahoo\n",
        "import yfinance as yf\n",
        "\n",
        "# clear the output\n",
        "import warnings\n",
        "warnings.filterwarnings('ignore')\n",
        "\n",
        "%matplotlib inline"
      ]
    },
    {
      "cell_type": "code",
      "source": [
        "TMSC=\"2330.TW\"\n",
        "YanK='6691.TW'\n",
        "Nvidia=\"NVDA\"\n",
        "ticks=[Nvidia]"
      ],
      "metadata": {
        "id": "-R-hfqMOG9uY"
      },
      "execution_count": null,
      "outputs": []
    },
    {
      "cell_type": "code",
      "source": [
        "start = dt.datetime(2023, 1, 1)\n",
        "#end = dt.datetime(2024, 2, 10)\n",
        "# up to the last day\n",
        "end = dt.datetime.today()"
      ],
      "metadata": {
        "id": "tqTXoXU1HG8e"
      },
      "execution_count": null,
      "outputs": []
    },
    {
      "cell_type": "code",
      "source": [
        "df=yf.download(ticks,start=start,end=end,multi_level_index=False)"
      ],
      "metadata": {
        "id": "QlUVjETBHdY6"
      },
      "execution_count": null,
      "outputs": []
    },
    {
      "cell_type": "code",
      "source": [
        "df.tail(2)"
      ],
      "metadata": {
        "id": "uWnk1gKzHdb5"
      },
      "execution_count": null,
      "outputs": []
    },
    {
      "cell_type": "code",
      "source": [],
      "metadata": {
        "id": "9SeqeMmXncni"
      },
      "execution_count": null,
      "outputs": []
    },
    {
      "cell_type": "code",
      "source": [
        "df['Date']=df.index"
      ],
      "metadata": {
        "id": "WNpXTSfFIi1t"
      },
      "execution_count": null,
      "outputs": []
    },
    {
      "cell_type": "markdown",
      "source": [],
      "metadata": {
        "id": "G4QhYlX0oNJd"
      }
    },
    {
      "cell_type": "code",
      "source": [
        "df.tail(2)"
      ],
      "metadata": {
        "id": "JAUZAI0XcCCS"
      },
      "execution_count": null,
      "outputs": []
    },
    {
      "cell_type": "code",
      "source": [
        "df.tail(2)"
      ],
      "metadata": {
        "id": "9K_Yu_B_0zQ1"
      },
      "execution_count": null,
      "outputs": []
    },
    {
      "cell_type": "markdown",
      "source": [],
      "metadata": {
        "id": "bjWLSjE2oMDJ"
      }
    },
    {
      "cell_type": "code",
      "source": [
        "df.info()"
      ],
      "metadata": {
        "id": "7SVp7MIKcQyh"
      },
      "execution_count": null,
      "outputs": []
    },
    {
      "cell_type": "code",
      "source": [
        "df.describe()"
      ],
      "metadata": {
        "id": "qkF0hIe5cnNA"
      },
      "execution_count": null,
      "outputs": []
    },
    {
      "cell_type": "code",
      "source": [
        "# Line chart of closing stock price over time\n",
        "plt.figure(figsize=(10, 4))\n",
        "sns.lineplot(data=df, x=df.index, y='Close')\n",
        "plt.title('Nvidia')\n",
        "plt.xlabel('Date')\n",
        "plt.ylabel('Closing Stock Price')\n",
        "plt.show()"
      ],
      "metadata": {
        "id": "az6aVpcMHdep"
      },
      "execution_count": null,
      "outputs": []
    },
    {
      "cell_type": "code",
      "source": [
        "df['year'] = df['Date'].dt.year\n",
        "sns.boxplot(x='year', y='Close', data=df)\n",
        "plt.title('Closing Stock Prices by Year')\n",
        "plt.xlabel('Year')\n",
        "plt.ylabel('Closing Stock Price')"
      ],
      "metadata": {
        "id": "hTCsRQT3HdhQ"
      },
      "execution_count": null,
      "outputs": []
    },
    {
      "cell_type": "code",
      "source": [
        "df.tail(10)"
      ],
      "metadata": {
        "id": "xF-HCIADvVhB"
      },
      "execution_count": null,
      "outputs": []
    },
    {
      "cell_type": "code",
      "source": [
        "plt.figure(figsize=(16, 4))\n",
        "#df['week'] = df['Date'].dt.week\n",
        "df['week'] = df['Date'].dt.isocalendar().week\n",
        "sns.boxplot(x='week', y='Close', data=df)\n",
        "plt.title('Closing Stock Prices by Week')\n",
        "plt.xlabel('Week')\n",
        "plt.ylabel('Closing Stock Price');"
      ],
      "metadata": {
        "id": "M5LFqV7ifVwR"
      },
      "execution_count": null,
      "outputs": []
    },
    {
      "cell_type": "code",
      "source": [
        "df.tail(2)"
      ],
      "metadata": {
        "id": "Tz4yOfyhe-p5"
      },
      "execution_count": null,
      "outputs": []
    },
    {
      "cell_type": "code",
      "source": [
        "# Create a heatmap of the correlation between stock prices\n",
        "corr = df[['Open', 'High', 'Low', 'Close']].corr()\n",
        "plt.figure(figsize=(4,4))\n",
        "sns.heatmap(corr, annot=True, cmap='coolwarm')\n",
        "plt.title('Correlation Between Stock Prices')\n",
        "plt.show()"
      ],
      "metadata": {
        "id": "XgHVsyqPHdkY"
      },
      "execution_count": null,
      "outputs": []
    },
    {
      "cell_type": "code",
      "source": [
        "plt.figure(figsize=(10, 4))\n",
        "sns.histplot(df['Close'], kde=True,bins=25)\n",
        "plt.title('Distribution of Closing Stock Price')\n",
        "plt.xlabel('Closing Stock Price')\n",
        "plt.ylabel('Frequency')\n",
        "plt.show()"
      ],
      "metadata": {
        "id": "AAqhfODeHdmo"
      },
      "execution_count": null,
      "outputs": []
    },
    {
      "cell_type": "code",
      "source": [
        "daily_returns = df['Close'].pct_change()\n",
        "\n",
        "# Create a line chart of the daily returns\n",
        "plt.plot(daily_returns.index, daily_returns.values)\n",
        "plt.title('Nvidia Daily Returns')\n",
        "plt.xlabel('Date')\n",
        "plt.ylabel('Daily Return')\n",
        "plt.show()\n",
        "#This will create a line chart showing the daily returns over time.\n"
      ],
      "metadata": {
        "id": "ciTpnw12Jt6k"
      },
      "execution_count": null,
      "outputs": []
    },
    {
      "cell_type": "code",
      "source": [
        "# Create a combination plot of stock prices and volume traded\n",
        "plt.figure(figsize=(12,6))\n",
        "sns.lineplot(x='Date', y='Close', data=df, color='b')\n",
        "#sns.lineplot(x='Date', y='Volume', data=df, color='g', alpha=0.5)\n",
        "plt.title('Nvidia Stock Prices with Volume Traded')\n",
        "plt.xlabel('Year')\n",
        "plt.ylabel('Price/Volume')\n",
        "plt.legend(['Closing Price', 'Volume'])\n",
        "plt.show()"
      ],
      "metadata": {
        "id": "nceV7b7dKB0x"
      },
      "execution_count": null,
      "outputs": []
    },
    {
      "cell_type": "code",
      "source": [
        "# Create a histogram of the daily returns\n",
        "plt.figure(figsize=(12,4))\n",
        "sns.histplot(df['Close'].pct_change().dropna(), bins=100, kde=True)\n",
        "plt.title('Nvidia Daily Returns')\n",
        "plt.xlabel('Daily Return')\n",
        "plt.ylabel('Frequency')\n",
        "plt.show()"
      ],
      "metadata": {
        "id": "xF6yH33zKw9_"
      },
      "execution_count": null,
      "outputs": []
    },
    {
      "cell_type": "markdown",
      "source": [
        "Whether is the `pct_change` distribred normally?"
      ],
      "metadata": {
        "id": "RECeLWZQLwBQ"
      }
    },
    {
      "cell_type": "code",
      "source": [
        "data=df['Close'].pct_change().dropna().values"
      ],
      "metadata": {
        "id": "Xfp9eORYMV-i"
      },
      "execution_count": null,
      "outputs": []
    },
    {
      "cell_type": "code",
      "source": [
        "data"
      ],
      "metadata": {
        "id": "YQR-Z8pOl1e6"
      },
      "execution_count": null,
      "outputs": []
    },
    {
      "cell_type": "markdown",
      "source": [
        "Noramalized of $X$\n",
        "$$ Z=\\frac{X-E(X)}{\\sqrt{Var(X)}}$$"
      ],
      "metadata": {
        "id": "7OzvAUuyl-SD"
      }
    },
    {
      "cell_type": "code",
      "source": [],
      "metadata": {
        "id": "uLrw9WIemUdv"
      },
      "execution_count": null,
      "outputs": []
    },
    {
      "cell_type": "code",
      "source": [],
      "metadata": {
        "id": "ak3kDgk8ni6X"
      },
      "execution_count": null,
      "outputs": []
    },
    {
      "cell_type": "code",
      "source": [
        "data1=(data-data.mean())/data.std()"
      ],
      "metadata": {
        "id": "rKgmdmzrMurH"
      },
      "execution_count": null,
      "outputs": []
    },
    {
      "cell_type": "code",
      "source": [
        "# 1. QQ plot\n",
        "from scipy.stats import lognorm\n",
        "import statsmodels.api as sm\n",
        "import numpy as np\n",
        "\n",
        "#make this example reproducible\n",
        "np.random.seed(1)\n",
        "\n",
        "#generate dataset that contains 1000 log-normal distributed values\n",
        "#lognorm_dataset = lognorm.rvs(s=.5, scale=math.exp(1), size=1000)\n",
        "\n",
        "#create Q-Q plot with 45-degree line added to plot\n",
        "fig = sm.qqplot(data1, line='45')"
      ],
      "metadata": {
        "id": "n_vd3OvhLO74"
      },
      "execution_count": null,
      "outputs": []
    },
    {
      "cell_type": "code",
      "source": [
        "# shapiro-Wilk test: H0: normal, Ha: not normal, with significant level being\n",
        "0.05\n",
        "\n",
        "from scipy.stats import shapiro\n",
        "\n",
        "shapiro(data1)"
      ],
      "metadata": {
        "id": "J6kaJIyGMkcq"
      },
      "execution_count": null,
      "outputs": []
    },
    {
      "cell_type": "code",
      "source": [],
      "metadata": {
        "id": "2m8SPQi2s7XQ"
      },
      "execution_count": null,
      "outputs": []
    },
    {
      "cell_type": "code",
      "source": [
        "# Perform a Kolmogorov-Smirnov Test\n",
        "from scipy.stats import kstest\n",
        "\n",
        "#perform Kolmogorov-Smirnov test for normality\n",
        "kstest(data, 'norm')"
      ],
      "metadata": {
        "id": "M9DAKbXwNO0i"
      },
      "execution_count": null,
      "outputs": []
    },
    {
      "cell_type": "markdown",
      "source": [
        "`Conclusion`,  data (pct_change) are not normally distributed"
      ],
      "metadata": {
        "id": "nraV3arhOOuc"
      }
    },
    {
      "cell_type": "code",
      "source": [
        "MSC=\"2330.TW\"\n",
        "GC=\"6488.TWO\"\n",
        "MediaT=\"2454.TW\"\n",
        "APPLE=\"AAPL\"\n",
        "INTEL=\"INTC\"\n",
        "Nvidia=\"NVDA\"\n",
        "\n",
        "ticks=[TMSC,GC,MediaT,APPLE,INTEL,Nvidia]"
      ],
      "metadata": {
        "id": "mqvHMUxXOCLe"
      },
      "execution_count": null,
      "outputs": []
    },
    {
      "cell_type": "code",
      "source": [
        "df_all=pd.DataFrame()\n",
        "for tick in ticks:\n",
        "    df_all[tick]=yf.download(tick, start, end)['Close']"
      ],
      "metadata": {
        "id": "vMcA-bbLXuRU"
      },
      "execution_count": null,
      "outputs": []
    },
    {
      "cell_type": "code",
      "source": [
        "df_all = df_all.fillna(method='ffill')\n",
        "df_all.tail(2)"
      ],
      "metadata": {
        "id": "sX5riPbrX0QE"
      },
      "execution_count": null,
      "outputs": []
    },
    {
      "cell_type": "code",
      "source": [
        "df_all.plot(figsize=[12,6],title=\" 股價\");"
      ],
      "metadata": {
        "id": "EcR76o7zYAS0"
      },
      "execution_count": null,
      "outputs": []
    },
    {
      "cell_type": "code",
      "source": [
        "!pip install git+https://github.com/cchuang2009/tw_matplotlib.git"
      ],
      "metadata": {
        "id": "Nwd82vG85-RR"
      },
      "execution_count": null,
      "outputs": []
    },
    {
      "cell_type": "code",
      "source": [
        "import tw_matplotlib"
      ],
      "metadata": {
        "id": "k_fGKwSP6Dcb"
      },
      "execution_count": null,
      "outputs": []
    },
    {
      "cell_type": "code",
      "source": [
        "import numpy as np\n",
        "np.log(df_all).plot(figsize=[12,6],title=\" 對數股價\")"
      ],
      "metadata": {
        "id": "-Pm3XKCEYIVf"
      },
      "execution_count": null,
      "outputs": []
    },
    {
      "cell_type": "code",
      "source": [
        "!pip install git+https://github.com/cchuang2009/tw_matplotlib.git"
      ],
      "metadata": {
        "id": "Ww-_RhU6YRSk"
      },
      "execution_count": null,
      "outputs": []
    },
    {
      "cell_type": "code",
      "source": [
        "import tw_matplotlib"
      ],
      "metadata": {
        "id": "RYD6GkkRZA1Z"
      },
      "execution_count": null,
      "outputs": []
    },
    {
      "cell_type": "code",
      "source": [
        "np.log(df_all).plot(figsize=[12,6],title=\" 對數股價\")"
      ],
      "metadata": {
        "id": "bwbPZOAZZGjM"
      },
      "execution_count": null,
      "outputs": []
    },
    {
      "cell_type": "code",
      "source": [],
      "metadata": {
        "id": "C3xDgEKxZKxX"
      },
      "execution_count": null,
      "outputs": []
    }
  ]
}