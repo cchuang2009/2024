{
  "cells": [
    {
      "cell_type": "markdown",
      "metadata": {
        "id": "MlLfNxcZEaHa"
      },
      "source": []
    },
    {
      "cell_type": "markdown",
      "metadata": {
        "id": "NfHW5jZKEaHb"
      },
      "source": [
        "Kaggle War Field-2\n",
        "===\n",
        "EDA\n",
        "---\n",
        "\n",
        "\n",
        "<font size=+1>\n",
        "\n",
        "Advanced Visualization introduced, plotly and pyecharts inluded. The way to display their output on Google drive/Kaggle is different from it on local box: firstlt, save output in html, (keep the interactivity), and use `IPython`'s `HTML()` to display it\n",
        "\n",
        "Ways to open generatead visulization ouput depend on what kind of platforms we used;\n",
        "\n",
        "1. Gui-end apps and browsers, like firefox, chrome, brave etc, it is okay for static pics display.\n",
        "2. certain viz, with UI interactity, some diferent among the user's platform:\n",
        "   - for app's. Jupyter, VS code or Cursor, use `fig.rendor_notebook()` or `fig.rendor(), while ` to displau after fig was created.\n",
        "   - Working within Google Drive or Kaggle, we have to create whole result in HTML format and use `IPython.display.HTML()` to display the output. Or create static output and display out the image.\n",
        "3. Although GitHub can almost generate `ipynb`'s file, but can't generate the interactive viz from plotly/pyechart.   \n",
        "\n",
        "\n",
        "1. [Kaggle](kaggle.com)\n",
        "2. [QuanEcon](https://datascience.quantecon.org/pandas/data_clean.html#pd-cln-ex)"
      ]
    },
    {
      "cell_type": "code",
      "execution_count": null,
      "metadata": {
        "trusted": true,
        "id": "8vki7xDzEaHd"
      },
      "outputs": [],
      "source": []
    },
    {
      "cell_type": "markdown",
      "metadata": {
        "id": "5UNQwzfSEaHe"
      },
      "source": []
    },
    {
      "cell_type": "code",
      "execution_count": null,
      "metadata": {
        "_cell_guid": "b1076dfc-b9ad-4769-8c92-a6c4dae69d19",
        "_uuid": "8f2839f25d086af736a60e9eeb907d3b93b6e0e5",
        "trusted": true,
        "id": "LDHqUFqhEaHe"
      },
      "outputs": [],
      "source": [
        "# This Python 3 environment comes with many helpful analytics libraries installed\n",
        "# It is defined by the kaggle/python Docker image: https://github.com/kaggle/docker-python\n",
        "# For example, here's several helpful packages to load\n",
        "\n",
        "import numpy as np # linear algebra\n",
        "import pandas as pd # data processing, CSV file I/O (e.g. pd.read_csv)\n",
        "\n",
        "# Input data files are available in the read-only \"../input/\" directory\n",
        "# For example, running this (by clicking run or pressing Shift+Enter) will list all files under the input directory\n",
        "\n",
        "import os\n",
        "for dirname, _, filenames in os.walk('/kaggle/input'):\n",
        "    for filename in filenames:\n",
        "        print(os.path.join(dirname, filename))\n",
        "\n",
        "# You can write up to 20GB to the current directory (/kaggle/working/) that gets preserved as output when you create a version using \"Save & Run All\"\n",
        "# You can also write temporary files to /kaggle/temp/, but they won't be saved outside of the current session"
      ]
    },
    {
      "cell_type": "code",
      "execution_count": null,
      "metadata": {
        "trusted": true,
        "id": "E4w7I5AqEaHf"
      },
      "outputs": [],
      "source": [
        "!python --version"
      ]
    },
    {
      "cell_type": "code",
      "execution_count": null,
      "metadata": {
        "trusted": true,
        "id": "A8ShFjL3EaHf"
      },
      "outputs": [],
      "source": [
        "import warnings\n",
        "warnings.simplefilter(\"ignore\")\n"
      ]
    },
    {
      "cell_type": "markdown",
      "metadata": {
        "id": "zL4dLItgEaHg"
      },
      "source": [
        "Chipotle Data\n",
        "---\n",
        "\n",
        "This data has order information from almost 2,000 `Chipotle` orders and includes information on what was ordered and how much it cost."
      ]
    },
    {
      "cell_type": "code",
      "execution_count": null,
      "metadata": {
        "trusted": true,
        "id": "tpInb191EaHg"
      },
      "outputs": [],
      "source": [
        "import numpy as np # linear algebra\n",
        "import pandas as pd"
      ]
    },
    {
      "cell_type": "code",
      "execution_count": null,
      "metadata": {
        "trusted": true,
        "colab": {
          "base_uri": "https://localhost:8080/",
          "height": 206
        },
        "id": "68NyHlCnEaHg",
        "outputId": "7d363493-8056-4a55-d8eb-8effcee4a664"
      },
      "outputs": [
        {
          "output_type": "execute_result",
          "data": {
            "text/plain": [
              "   order_id  quantity                              item_name  \\\n",
              "0         1         1           Chips and Fresh Tomato Salsa   \n",
              "1         1         1                                   Izze   \n",
              "2         1         1                       Nantucket Nectar   \n",
              "3         1         1  Chips and Tomatillo-Green Chili Salsa   \n",
              "4         2         2                           Chicken Bowl   \n",
              "\n",
              "                                  choice_description item_price  \n",
              "0                                                NaN     $2.39   \n",
              "1                                       [Clementine]     $3.39   \n",
              "2                                            [Apple]     $3.39   \n",
              "3                                                NaN     $2.39   \n",
              "4  [Tomatillo-Red Chili Salsa (Hot), [Black Beans...    $16.98   "
            ],
            "text/html": [
              "\n",
              "  <div id=\"df-7fe65a36-a393-400f-9f41-4c2b502898d9\" class=\"colab-df-container\">\n",
              "    <div>\n",
              "<style scoped>\n",
              "    .dataframe tbody tr th:only-of-type {\n",
              "        vertical-align: middle;\n",
              "    }\n",
              "\n",
              "    .dataframe tbody tr th {\n",
              "        vertical-align: top;\n",
              "    }\n",
              "\n",
              "    .dataframe thead th {\n",
              "        text-align: right;\n",
              "    }\n",
              "</style>\n",
              "<table border=\"1\" class=\"dataframe\">\n",
              "  <thead>\n",
              "    <tr style=\"text-align: right;\">\n",
              "      <th></th>\n",
              "      <th>order_id</th>\n",
              "      <th>quantity</th>\n",
              "      <th>item_name</th>\n",
              "      <th>choice_description</th>\n",
              "      <th>item_price</th>\n",
              "    </tr>\n",
              "  </thead>\n",
              "  <tbody>\n",
              "    <tr>\n",
              "      <th>0</th>\n",
              "      <td>1</td>\n",
              "      <td>1</td>\n",
              "      <td>Chips and Fresh Tomato Salsa</td>\n",
              "      <td>NaN</td>\n",
              "      <td>$2.39</td>\n",
              "    </tr>\n",
              "    <tr>\n",
              "      <th>1</th>\n",
              "      <td>1</td>\n",
              "      <td>1</td>\n",
              "      <td>Izze</td>\n",
              "      <td>[Clementine]</td>\n",
              "      <td>$3.39</td>\n",
              "    </tr>\n",
              "    <tr>\n",
              "      <th>2</th>\n",
              "      <td>1</td>\n",
              "      <td>1</td>\n",
              "      <td>Nantucket Nectar</td>\n",
              "      <td>[Apple]</td>\n",
              "      <td>$3.39</td>\n",
              "    </tr>\n",
              "    <tr>\n",
              "      <th>3</th>\n",
              "      <td>1</td>\n",
              "      <td>1</td>\n",
              "      <td>Chips and Tomatillo-Green Chili Salsa</td>\n",
              "      <td>NaN</td>\n",
              "      <td>$2.39</td>\n",
              "    </tr>\n",
              "    <tr>\n",
              "      <th>4</th>\n",
              "      <td>2</td>\n",
              "      <td>2</td>\n",
              "      <td>Chicken Bowl</td>\n",
              "      <td>[Tomatillo-Red Chili Salsa (Hot), [Black Beans...</td>\n",
              "      <td>$16.98</td>\n",
              "    </tr>\n",
              "  </tbody>\n",
              "</table>\n",
              "</div>\n",
              "    <div class=\"colab-df-buttons\">\n",
              "\n",
              "  <div class=\"colab-df-container\">\n",
              "    <button class=\"colab-df-convert\" onclick=\"convertToInteractive('df-7fe65a36-a393-400f-9f41-4c2b502898d9')\"\n",
              "            title=\"Convert this dataframe to an interactive table.\"\n",
              "            style=\"display:none;\">\n",
              "\n",
              "  <svg xmlns=\"http://www.w3.org/2000/svg\" height=\"24px\" viewBox=\"0 -960 960 960\">\n",
              "    <path d=\"M120-120v-720h720v720H120Zm60-500h600v-160H180v160Zm220 220h160v-160H400v160Zm0 220h160v-160H400v160ZM180-400h160v-160H180v160Zm440 0h160v-160H620v160ZM180-180h160v-160H180v160Zm440 0h160v-160H620v160Z\"/>\n",
              "  </svg>\n",
              "    </button>\n",
              "\n",
              "  <style>\n",
              "    .colab-df-container {\n",
              "      display:flex;\n",
              "      gap: 12px;\n",
              "    }\n",
              "\n",
              "    .colab-df-convert {\n",
              "      background-color: #E8F0FE;\n",
              "      border: none;\n",
              "      border-radius: 50%;\n",
              "      cursor: pointer;\n",
              "      display: none;\n",
              "      fill: #1967D2;\n",
              "      height: 32px;\n",
              "      padding: 0 0 0 0;\n",
              "      width: 32px;\n",
              "    }\n",
              "\n",
              "    .colab-df-convert:hover {\n",
              "      background-color: #E2EBFA;\n",
              "      box-shadow: 0px 1px 2px rgba(60, 64, 67, 0.3), 0px 1px 3px 1px rgba(60, 64, 67, 0.15);\n",
              "      fill: #174EA6;\n",
              "    }\n",
              "\n",
              "    .colab-df-buttons div {\n",
              "      margin-bottom: 4px;\n",
              "    }\n",
              "\n",
              "    [theme=dark] .colab-df-convert {\n",
              "      background-color: #3B4455;\n",
              "      fill: #D2E3FC;\n",
              "    }\n",
              "\n",
              "    [theme=dark] .colab-df-convert:hover {\n",
              "      background-color: #434B5C;\n",
              "      box-shadow: 0px 1px 3px 1px rgba(0, 0, 0, 0.15);\n",
              "      filter: drop-shadow(0px 1px 2px rgba(0, 0, 0, 0.3));\n",
              "      fill: #FFFFFF;\n",
              "    }\n",
              "  </style>\n",
              "\n",
              "    <script>\n",
              "      const buttonEl =\n",
              "        document.querySelector('#df-7fe65a36-a393-400f-9f41-4c2b502898d9 button.colab-df-convert');\n",
              "      buttonEl.style.display =\n",
              "        google.colab.kernel.accessAllowed ? 'block' : 'none';\n",
              "\n",
              "      async function convertToInteractive(key) {\n",
              "        const element = document.querySelector('#df-7fe65a36-a393-400f-9f41-4c2b502898d9');\n",
              "        const dataTable =\n",
              "          await google.colab.kernel.invokeFunction('convertToInteractive',\n",
              "                                                    [key], {});\n",
              "        if (!dataTable) return;\n",
              "\n",
              "        const docLinkHtml = 'Like what you see? Visit the ' +\n",
              "          '<a target=\"_blank\" href=https://colab.research.google.com/notebooks/data_table.ipynb>data table notebook</a>'\n",
              "          + ' to learn more about interactive tables.';\n",
              "        element.innerHTML = '';\n",
              "        dataTable['output_type'] = 'display_data';\n",
              "        await google.colab.output.renderOutput(dataTable, element);\n",
              "        const docLink = document.createElement('div');\n",
              "        docLink.innerHTML = docLinkHtml;\n",
              "        element.appendChild(docLink);\n",
              "      }\n",
              "    </script>\n",
              "  </div>\n",
              "\n",
              "\n",
              "    <div id=\"df-275a36eb-196a-4893-b1e1-feb9b5e42596\">\n",
              "      <button class=\"colab-df-quickchart\" onclick=\"quickchart('df-275a36eb-196a-4893-b1e1-feb9b5e42596')\"\n",
              "                title=\"Suggest charts\"\n",
              "                style=\"display:none;\">\n",
              "\n",
              "<svg xmlns=\"http://www.w3.org/2000/svg\" height=\"24px\"viewBox=\"0 0 24 24\"\n",
              "     width=\"24px\">\n",
              "    <g>\n",
              "        <path d=\"M19 3H5c-1.1 0-2 .9-2 2v14c0 1.1.9 2 2 2h14c1.1 0 2-.9 2-2V5c0-1.1-.9-2-2-2zM9 17H7v-7h2v7zm4 0h-2V7h2v10zm4 0h-2v-4h2v4z\"/>\n",
              "    </g>\n",
              "</svg>\n",
              "      </button>\n",
              "\n",
              "<style>\n",
              "  .colab-df-quickchart {\n",
              "      --bg-color: #E8F0FE;\n",
              "      --fill-color: #1967D2;\n",
              "      --hover-bg-color: #E2EBFA;\n",
              "      --hover-fill-color: #174EA6;\n",
              "      --disabled-fill-color: #AAA;\n",
              "      --disabled-bg-color: #DDD;\n",
              "  }\n",
              "\n",
              "  [theme=dark] .colab-df-quickchart {\n",
              "      --bg-color: #3B4455;\n",
              "      --fill-color: #D2E3FC;\n",
              "      --hover-bg-color: #434B5C;\n",
              "      --hover-fill-color: #FFFFFF;\n",
              "      --disabled-bg-color: #3B4455;\n",
              "      --disabled-fill-color: #666;\n",
              "  }\n",
              "\n",
              "  .colab-df-quickchart {\n",
              "    background-color: var(--bg-color);\n",
              "    border: none;\n",
              "    border-radius: 50%;\n",
              "    cursor: pointer;\n",
              "    display: none;\n",
              "    fill: var(--fill-color);\n",
              "    height: 32px;\n",
              "    padding: 0;\n",
              "    width: 32px;\n",
              "  }\n",
              "\n",
              "  .colab-df-quickchart:hover {\n",
              "    background-color: var(--hover-bg-color);\n",
              "    box-shadow: 0 1px 2px rgba(60, 64, 67, 0.3), 0 1px 3px 1px rgba(60, 64, 67, 0.15);\n",
              "    fill: var(--button-hover-fill-color);\n",
              "  }\n",
              "\n",
              "  .colab-df-quickchart-complete:disabled,\n",
              "  .colab-df-quickchart-complete:disabled:hover {\n",
              "    background-color: var(--disabled-bg-color);\n",
              "    fill: var(--disabled-fill-color);\n",
              "    box-shadow: none;\n",
              "  }\n",
              "\n",
              "  .colab-df-spinner {\n",
              "    border: 2px solid var(--fill-color);\n",
              "    border-color: transparent;\n",
              "    border-bottom-color: var(--fill-color);\n",
              "    animation:\n",
              "      spin 1s steps(1) infinite;\n",
              "  }\n",
              "\n",
              "  @keyframes spin {\n",
              "    0% {\n",
              "      border-color: transparent;\n",
              "      border-bottom-color: var(--fill-color);\n",
              "      border-left-color: var(--fill-color);\n",
              "    }\n",
              "    20% {\n",
              "      border-color: transparent;\n",
              "      border-left-color: var(--fill-color);\n",
              "      border-top-color: var(--fill-color);\n",
              "    }\n",
              "    30% {\n",
              "      border-color: transparent;\n",
              "      border-left-color: var(--fill-color);\n",
              "      border-top-color: var(--fill-color);\n",
              "      border-right-color: var(--fill-color);\n",
              "    }\n",
              "    40% {\n",
              "      border-color: transparent;\n",
              "      border-right-color: var(--fill-color);\n",
              "      border-top-color: var(--fill-color);\n",
              "    }\n",
              "    60% {\n",
              "      border-color: transparent;\n",
              "      border-right-color: var(--fill-color);\n",
              "    }\n",
              "    80% {\n",
              "      border-color: transparent;\n",
              "      border-right-color: var(--fill-color);\n",
              "      border-bottom-color: var(--fill-color);\n",
              "    }\n",
              "    90% {\n",
              "      border-color: transparent;\n",
              "      border-bottom-color: var(--fill-color);\n",
              "    }\n",
              "  }\n",
              "</style>\n",
              "\n",
              "      <script>\n",
              "        async function quickchart(key) {\n",
              "          const quickchartButtonEl =\n",
              "            document.querySelector('#' + key + ' button');\n",
              "          quickchartButtonEl.disabled = true;  // To prevent multiple clicks.\n",
              "          quickchartButtonEl.classList.add('colab-df-spinner');\n",
              "          try {\n",
              "            const charts = await google.colab.kernel.invokeFunction(\n",
              "                'suggestCharts', [key], {});\n",
              "          } catch (error) {\n",
              "            console.error('Error during call to suggestCharts:', error);\n",
              "          }\n",
              "          quickchartButtonEl.classList.remove('colab-df-spinner');\n",
              "          quickchartButtonEl.classList.add('colab-df-quickchart-complete');\n",
              "        }\n",
              "        (() => {\n",
              "          let quickchartButtonEl =\n",
              "            document.querySelector('#df-275a36eb-196a-4893-b1e1-feb9b5e42596 button');\n",
              "          quickchartButtonEl.style.display =\n",
              "            google.colab.kernel.accessAllowed ? 'block' : 'none';\n",
              "        })();\n",
              "      </script>\n",
              "    </div>\n",
              "\n",
              "    </div>\n",
              "  </div>\n"
            ],
            "application/vnd.google.colaboratory.intrinsic+json": {
              "type": "dataframe",
              "variable_name": "chipotle",
              "summary": "{\n  \"name\": \"chipotle\",\n  \"rows\": 4622,\n  \"fields\": [\n    {\n      \"column\": \"order_id\",\n      \"properties\": {\n        \"dtype\": \"number\",\n        \"std\": 528,\n        \"min\": 1,\n        \"max\": 1834,\n        \"num_unique_values\": 1834,\n        \"samples\": [\n          644,\n          333,\n          991\n        ],\n        \"semantic_type\": \"\",\n        \"description\": \"\"\n      }\n    },\n    {\n      \"column\": \"quantity\",\n      \"properties\": {\n        \"dtype\": \"number\",\n        \"std\": 0,\n        \"min\": 1,\n        \"max\": 15,\n        \"num_unique_values\": 9,\n        \"samples\": [\n          8,\n          2,\n          15\n        ],\n        \"semantic_type\": \"\",\n        \"description\": \"\"\n      }\n    },\n    {\n      \"column\": \"item_name\",\n      \"properties\": {\n        \"dtype\": \"category\",\n        \"num_unique_values\": 50,\n        \"samples\": [\n          \"Barbacoa Burrito\",\n          \"Crispy Tacos\",\n          \"Chips and Roasted Chili Corn Salsa\"\n        ],\n        \"semantic_type\": \"\",\n        \"description\": \"\"\n      }\n    },\n    {\n      \"column\": \"choice_description\",\n      \"properties\": {\n        \"dtype\": \"category\",\n        \"num_unique_values\": 1043,\n        \"samples\": [\n          \"[Roasted Chili Corn Salsa, [Black Beans, Sour Cream, Cheese, Guacamole]]\",\n          \"[Tomatillo Red Chili Salsa, [Guacamole, Cheese]]\",\n          \"[Fresh Tomato Salsa, [Rice, Cheese, Sour Cream, Guacamole, Lettuce]]\"\n        ],\n        \"semantic_type\": \"\",\n        \"description\": \"\"\n      }\n    },\n    {\n      \"column\": \"item_price\",\n      \"properties\": {\n        \"dtype\": \"category\",\n        \"num_unique_values\": 78,\n        \"samples\": [\n          \"$23.50 \",\n          \"$2.39 \",\n          \"$7.40 \"\n        ],\n        \"semantic_type\": \"\",\n        \"description\": \"\"\n      }\n    }\n  ]\n}"
            }
          },
          "metadata": {},
          "execution_count": 3
        }
      ],
      "source": [
        "# As before, the first feature, \"Unnamed: 0\", is the `index` column\n",
        "\n",
        "url = \"https://datascience.quantecon.org/assets/data/chipotle_raw.csv.zip\"\n",
        "\n",
        "# use the first column as index\n",
        "chipotle = pd.read_csv(url,index_col=0)\n",
        "chipotle.head()"
      ]
    },
    {
      "cell_type": "code",
      "execution_count": null,
      "metadata": {
        "trusted": true,
        "id": "qwvTClRvEaHh"
      },
      "outputs": [],
      "source": [
        "chipotle.info()"
      ]
    },
    {
      "cell_type": "markdown",
      "metadata": {
        "id": "hZ88YMDOEaHh"
      },
      "source": [
        "Dataset Study\n",
        "---\n",
        "\n",
        "<font size=+1>\n",
        "    \n",
        "1. <del>delete unnecessary data, `Unnamed: 0`</del>\n",
        "2. convert suitable format\n",
        "   - `item_price`: delete the first character, '$', and convert to float format <font color=\"red\">(✓)</font>\n",
        "   - evaluate total cost in each order, (`the first two highest ones`)\n",
        "4. How many missing items are there in this dataset? How many missing items in each column? Whish ones own(s) nan's?\n",
        "5. What is the average price of an ordered item with chicken?\n",
        "6. What is the average price of an ordered item with steak?\n",
        "7. Whick kind of order produce more revenue (total), chicken or steak ?\n",
        "\n",
        "\n",
        "Answer\n",
        "---\n",
        "2-7\n",
        "\n"
      ]
    },
    {
      "cell_type": "code",
      "execution_count": null,
      "metadata": {
        "trusted": true,
        "id": "94wwZsxbEaHh"
      },
      "outputs": [],
      "source": [
        "#\n",
        "# chipotle.drop(columns=['Unnamed: 0'],inplace=True)"
      ]
    },
    {
      "cell_type": "code",
      "execution_count": null,
      "metadata": {
        "trusted": true,
        "colab": {
          "base_uri": "https://localhost:8080/",
          "height": 1000
        },
        "id": "X02NyTtEEaHi",
        "outputId": "02b4a4fe-e339-4e06-dc14-d352e932ab03"
      },
      "outputs": [
        {
          "output_type": "execute_result",
          "data": {
            "text/plain": [
              "item_name\n",
              "Chicken Bowl                             726\n",
              "Chicken Burrito                          553\n",
              "Chips and Guacamole                      479\n",
              "Steak Burrito                            368\n",
              "Canned Soft Drink                        301\n",
              "Chips                                    211\n",
              "Steak Bowl                               211\n",
              "Bottled Water                            162\n",
              "Chicken Soft Tacos                       115\n",
              "Chips and Fresh Tomato Salsa             110\n",
              "Chicken Salad Bowl                       110\n",
              "Canned Soda                              104\n",
              "Side of Chips                            101\n",
              "Veggie Burrito                            95\n",
              "Barbacoa Burrito                          91\n",
              "Veggie Bowl                               85\n",
              "Carnitas Bowl                             68\n",
              "Barbacoa Bowl                             66\n",
              "Carnitas Burrito                          59\n",
              "Steak Soft Tacos                          55\n",
              "6 Pack Soft Drink                         54\n",
              "Chips and Tomatillo Red Chili Salsa       48\n",
              "Chicken Crispy Tacos                      47\n",
              "Chips and Tomatillo Green Chili Salsa     43\n",
              "Carnitas Soft Tacos                       40\n",
              "Steak Crispy Tacos                        35\n",
              "Chips and Tomatillo-Green Chili Salsa     31\n",
              "Steak Salad Bowl                          29\n",
              "Nantucket Nectar                          27\n",
              "Barbacoa Soft Tacos                       25\n",
              "Chips and Roasted Chili Corn Salsa        22\n",
              "Izze                                      20\n",
              "Chips and Tomatillo-Red Chili Salsa       20\n",
              "Veggie Salad Bowl                         18\n",
              "Chips and Roasted Chili-Corn Salsa        18\n",
              "Barbacoa Crispy Tacos                     11\n",
              "Barbacoa Salad Bowl                       10\n",
              "Chicken Salad                              9\n",
              "Veggie Soft Tacos                          7\n",
              "Carnitas Crispy Tacos                      7\n",
              "Burrito                                    6\n",
              "Carnitas Salad Bowl                        6\n",
              "Veggie Salad                               6\n",
              "Steak Salad                                4\n",
              "Crispy Tacos                               2\n",
              "Bowl                                       2\n",
              "Salad                                      2\n",
              "Chips and Mild Fresh Tomato Salsa          1\n",
              "Veggie Crispy Tacos                        1\n",
              "Carnitas Salad                             1\n",
              "Name: count, dtype: int64"
            ],
            "text/html": [
              "<div>\n",
              "<style scoped>\n",
              "    .dataframe tbody tr th:only-of-type {\n",
              "        vertical-align: middle;\n",
              "    }\n",
              "\n",
              "    .dataframe tbody tr th {\n",
              "        vertical-align: top;\n",
              "    }\n",
              "\n",
              "    .dataframe thead th {\n",
              "        text-align: right;\n",
              "    }\n",
              "</style>\n",
              "<table border=\"1\" class=\"dataframe\">\n",
              "  <thead>\n",
              "    <tr style=\"text-align: right;\">\n",
              "      <th></th>\n",
              "      <th>count</th>\n",
              "    </tr>\n",
              "    <tr>\n",
              "      <th>item_name</th>\n",
              "      <th></th>\n",
              "    </tr>\n",
              "  </thead>\n",
              "  <tbody>\n",
              "    <tr>\n",
              "      <th>Chicken Bowl</th>\n",
              "      <td>726</td>\n",
              "    </tr>\n",
              "    <tr>\n",
              "      <th>Chicken Burrito</th>\n",
              "      <td>553</td>\n",
              "    </tr>\n",
              "    <tr>\n",
              "      <th>Chips and Guacamole</th>\n",
              "      <td>479</td>\n",
              "    </tr>\n",
              "    <tr>\n",
              "      <th>Steak Burrito</th>\n",
              "      <td>368</td>\n",
              "    </tr>\n",
              "    <tr>\n",
              "      <th>Canned Soft Drink</th>\n",
              "      <td>301</td>\n",
              "    </tr>\n",
              "    <tr>\n",
              "      <th>Chips</th>\n",
              "      <td>211</td>\n",
              "    </tr>\n",
              "    <tr>\n",
              "      <th>Steak Bowl</th>\n",
              "      <td>211</td>\n",
              "    </tr>\n",
              "    <tr>\n",
              "      <th>Bottled Water</th>\n",
              "      <td>162</td>\n",
              "    </tr>\n",
              "    <tr>\n",
              "      <th>Chicken Soft Tacos</th>\n",
              "      <td>115</td>\n",
              "    </tr>\n",
              "    <tr>\n",
              "      <th>Chips and Fresh Tomato Salsa</th>\n",
              "      <td>110</td>\n",
              "    </tr>\n",
              "    <tr>\n",
              "      <th>Chicken Salad Bowl</th>\n",
              "      <td>110</td>\n",
              "    </tr>\n",
              "    <tr>\n",
              "      <th>Canned Soda</th>\n",
              "      <td>104</td>\n",
              "    </tr>\n",
              "    <tr>\n",
              "      <th>Side of Chips</th>\n",
              "      <td>101</td>\n",
              "    </tr>\n",
              "    <tr>\n",
              "      <th>Veggie Burrito</th>\n",
              "      <td>95</td>\n",
              "    </tr>\n",
              "    <tr>\n",
              "      <th>Barbacoa Burrito</th>\n",
              "      <td>91</td>\n",
              "    </tr>\n",
              "    <tr>\n",
              "      <th>Veggie Bowl</th>\n",
              "      <td>85</td>\n",
              "    </tr>\n",
              "    <tr>\n",
              "      <th>Carnitas Bowl</th>\n",
              "      <td>68</td>\n",
              "    </tr>\n",
              "    <tr>\n",
              "      <th>Barbacoa Bowl</th>\n",
              "      <td>66</td>\n",
              "    </tr>\n",
              "    <tr>\n",
              "      <th>Carnitas Burrito</th>\n",
              "      <td>59</td>\n",
              "    </tr>\n",
              "    <tr>\n",
              "      <th>Steak Soft Tacos</th>\n",
              "      <td>55</td>\n",
              "    </tr>\n",
              "    <tr>\n",
              "      <th>6 Pack Soft Drink</th>\n",
              "      <td>54</td>\n",
              "    </tr>\n",
              "    <tr>\n",
              "      <th>Chips and Tomatillo Red Chili Salsa</th>\n",
              "      <td>48</td>\n",
              "    </tr>\n",
              "    <tr>\n",
              "      <th>Chicken Crispy Tacos</th>\n",
              "      <td>47</td>\n",
              "    </tr>\n",
              "    <tr>\n",
              "      <th>Chips and Tomatillo Green Chili Salsa</th>\n",
              "      <td>43</td>\n",
              "    </tr>\n",
              "    <tr>\n",
              "      <th>Carnitas Soft Tacos</th>\n",
              "      <td>40</td>\n",
              "    </tr>\n",
              "    <tr>\n",
              "      <th>Steak Crispy Tacos</th>\n",
              "      <td>35</td>\n",
              "    </tr>\n",
              "    <tr>\n",
              "      <th>Chips and Tomatillo-Green Chili Salsa</th>\n",
              "      <td>31</td>\n",
              "    </tr>\n",
              "    <tr>\n",
              "      <th>Steak Salad Bowl</th>\n",
              "      <td>29</td>\n",
              "    </tr>\n",
              "    <tr>\n",
              "      <th>Nantucket Nectar</th>\n",
              "      <td>27</td>\n",
              "    </tr>\n",
              "    <tr>\n",
              "      <th>Barbacoa Soft Tacos</th>\n",
              "      <td>25</td>\n",
              "    </tr>\n",
              "    <tr>\n",
              "      <th>Chips and Roasted Chili Corn Salsa</th>\n",
              "      <td>22</td>\n",
              "    </tr>\n",
              "    <tr>\n",
              "      <th>Izze</th>\n",
              "      <td>20</td>\n",
              "    </tr>\n",
              "    <tr>\n",
              "      <th>Chips and Tomatillo-Red Chili Salsa</th>\n",
              "      <td>20</td>\n",
              "    </tr>\n",
              "    <tr>\n",
              "      <th>Veggie Salad Bowl</th>\n",
              "      <td>18</td>\n",
              "    </tr>\n",
              "    <tr>\n",
              "      <th>Chips and Roasted Chili-Corn Salsa</th>\n",
              "      <td>18</td>\n",
              "    </tr>\n",
              "    <tr>\n",
              "      <th>Barbacoa Crispy Tacos</th>\n",
              "      <td>11</td>\n",
              "    </tr>\n",
              "    <tr>\n",
              "      <th>Barbacoa Salad Bowl</th>\n",
              "      <td>10</td>\n",
              "    </tr>\n",
              "    <tr>\n",
              "      <th>Chicken Salad</th>\n",
              "      <td>9</td>\n",
              "    </tr>\n",
              "    <tr>\n",
              "      <th>Veggie Soft Tacos</th>\n",
              "      <td>7</td>\n",
              "    </tr>\n",
              "    <tr>\n",
              "      <th>Carnitas Crispy Tacos</th>\n",
              "      <td>7</td>\n",
              "    </tr>\n",
              "    <tr>\n",
              "      <th>Burrito</th>\n",
              "      <td>6</td>\n",
              "    </tr>\n",
              "    <tr>\n",
              "      <th>Carnitas Salad Bowl</th>\n",
              "      <td>6</td>\n",
              "    </tr>\n",
              "    <tr>\n",
              "      <th>Veggie Salad</th>\n",
              "      <td>6</td>\n",
              "    </tr>\n",
              "    <tr>\n",
              "      <th>Steak Salad</th>\n",
              "      <td>4</td>\n",
              "    </tr>\n",
              "    <tr>\n",
              "      <th>Crispy Tacos</th>\n",
              "      <td>2</td>\n",
              "    </tr>\n",
              "    <tr>\n",
              "      <th>Bowl</th>\n",
              "      <td>2</td>\n",
              "    </tr>\n",
              "    <tr>\n",
              "      <th>Salad</th>\n",
              "      <td>2</td>\n",
              "    </tr>\n",
              "    <tr>\n",
              "      <th>Chips and Mild Fresh Tomato Salsa</th>\n",
              "      <td>1</td>\n",
              "    </tr>\n",
              "    <tr>\n",
              "      <th>Veggie Crispy Tacos</th>\n",
              "      <td>1</td>\n",
              "    </tr>\n",
              "    <tr>\n",
              "      <th>Carnitas Salad</th>\n",
              "      <td>1</td>\n",
              "    </tr>\n",
              "  </tbody>\n",
              "</table>\n",
              "</div><br><label><b>dtype:</b> int64</label>"
            ]
          },
          "metadata": {},
          "execution_count": 4
        }
      ],
      "source": [
        "# set(chipotle['item_name'].tolist())\n",
        "\n",
        "chipotle['item_name'].value_counts()"
      ]
    },
    {
      "cell_type": "code",
      "execution_count": null,
      "metadata": {
        "colab": {
          "base_uri": "https://localhost:8080/",
          "height": 115
        },
        "id": "_5hn9e9aEaHi",
        "outputId": "5a9d7c20-e1f3-45f0-a76f-3b7180fc37fc"
      },
      "outputs": [
        {
          "output_type": "execute_result",
          "data": {
            "text/plain": [
              "item_name    50\n",
              "dtype: int64"
            ],
            "text/html": [
              "<div>\n",
              "<style scoped>\n",
              "    .dataframe tbody tr th:only-of-type {\n",
              "        vertical-align: middle;\n",
              "    }\n",
              "\n",
              "    .dataframe tbody tr th {\n",
              "        vertical-align: top;\n",
              "    }\n",
              "\n",
              "    .dataframe thead th {\n",
              "        text-align: right;\n",
              "    }\n",
              "</style>\n",
              "<table border=\"1\" class=\"dataframe\">\n",
              "  <thead>\n",
              "    <tr style=\"text-align: right;\">\n",
              "      <th></th>\n",
              "      <th>0</th>\n",
              "    </tr>\n",
              "  </thead>\n",
              "  <tbody>\n",
              "    <tr>\n",
              "      <th>item_name</th>\n",
              "      <td>50</td>\n",
              "    </tr>\n",
              "  </tbody>\n",
              "</table>\n",
              "</div><br><label><b>dtype:</b> int64</label>"
            ]
          },
          "metadata": {},
          "execution_count": 5
        }
      ],
      "source": [
        "# how many kind of orders are ther?\n",
        "chipotle[['item_name']].nunique()"
      ]
    },
    {
      "cell_type": "markdown",
      "metadata": {
        "id": "9SmAf6zgEaHi"
      },
      "source": [
        "What High Techinque is\n",
        "---\n",
        "\n",
        "<font size=+1>\n",
        "\n",
        "`At first, what you can conclude from above?`\n",
        "\n",
        "But\n",
        "\n",
        "```\n",
        "     High Techinque   \n",
        "      \n",
        "➠  Routine, more inteligent, and more fast\n",
        "\n",
        "   with  Professional knowledge + AI Tools\n",
        "         Smart Representation (with confidence)\n",
        "```    \n",
        "\n",
        "\n"
      ]
    },
    {
      "cell_type": "code",
      "execution_count": null,
      "metadata": {
        "id": "bC8P2W4DEaHi"
      },
      "outputs": [],
      "source": []
    },
    {
      "cell_type": "code",
      "execution_count": null,
      "metadata": {
        "id": "IBZiSKZdEaHi"
      },
      "outputs": [],
      "source": [
        "# visuzialize the data\n",
        "import matplotlib.pyplot as plt\n",
        "import seaborn as sns\n",
        "import matplotlib\n",
        "\n",
        "import plotly.express as px"
      ]
    },
    {
      "cell_type": "code",
      "execution_count": null,
      "metadata": {
        "colab": {
          "base_uri": "https://localhost:8080/",
          "height": 539
        },
        "id": "De7HxYwMEaHi",
        "outputId": "e068f39c-1170-4b9f-aaff-2c76deed78fd"
      },
      "outputs": [
        {
          "output_type": "execute_result",
          "data": {
            "text/plain": [
              "Text(0.5, 1.0, 'Ordered Items')"
            ]
          },
          "metadata": {},
          "execution_count": 7
        },
        {
          "output_type": "display_data",
          "data": {
            "text/plain": [
              "<Figure size 600x600 with 1 Axes>"
            ],
            "image/png": "[encoded data removed]"
          },
          "metadata": {}
        }
      ],
      "source": [
        "# Calculate value counts\n",
        "counts = chipotle['item_name'].value_counts()\n",
        "\n",
        "#sns.set_style(\"whitegrid\")\n",
        "plt.figure(figsize=(6,6))\n",
        "plt.pie(counts[:10], labels=counts.index[:10], autopct='%1.1f%%')\n",
        "plt.title('Ordered Items')"
      ]
    },
    {
      "cell_type": "markdown",
      "metadata": {
        "id": "l1YluUO1EaHi"
      },
      "source": [
        "Use `plotly`"
      ]
    },
    {
      "cell_type": "code",
      "execution_count": null,
      "metadata": {
        "colab": {
          "base_uri": "https://localhost:8080/",
          "height": 542
        },
        "id": "r43rK357EaHi",
        "outputId": "2277a571-6bce-4800-8523-5afedce74c7f"
      },
      "outputs": [
        {
          "output_type": "display_data",
          "data": {
            "text/html": [
              "<html>\n",
              "<head><meta charset=\"utf-8\" /></head>\n",
              "<body>\n",
              "    <div>            <script src=\"https://cdnjs.cloudflare.com/ajax/libs/mathjax/2.7.5/MathJax.js?config=TeX-AMS-MML_SVG\"></script><script type=\"text/javascript\">if (window.MathJax && window.MathJax.Hub && window.MathJax.Hub.Config) {window.MathJax.Hub.Config({SVG: {font: \"STIX-Web\"}});}</script>                <script type=\"text/javascript\">window.PlotlyConfig = {MathJaxConfig: 'local'};</script>\n",
              "        <script charset=\"utf-8\" src=\"https://cdn.plot.ly/plotly-2.35.2.min.js\"></script>                <div id=\"7ba35e6e-ec79-4155-abdb-f22cc41434bd\" class=\"plotly-graph-div\" style=\"height:525px; width:100%;\"></div>            <script type=\"text/javascript\">                                    window.PLOTLYENV=window.PLOTLYENV || {};                                    if (document.getElementById(\"7ba35e6e-ec79-4155-abdb-f22cc41434bd\")) {                    Plotly.newPlot(                        \"7ba35e6e-ec79-4155-abdb-f22cc41434bd\",                        [{\"domain\":{\"x\":[0.0,1.0],\"y\":[0.0,1.0]},\"hole\":0.2,\"hovertemplate\":\"label=%{label}\\u003cbr\\u003evalue=%{value}\\u003cextra\\u003e\\u003c\\u002fextra\\u003e\",\"labels\":[\"Chicken Bowl\",\"Chicken Burrito\",\"Chips and Guacamole\",\"Steak Burrito\",\"Canned Soft Drink\",\"Chips\",\"Steak Bowl\",\"Bottled Water\",\"Chicken Soft Tacos\",\"Chips and Fresh Tomato Salsa\"],\"legendgroup\":\"\",\"name\":\"\",\"showlegend\":true,\"values\":[726,553,479,368,301,211,211,162,115,110],\"type\":\"pie\",\"pull\":[0.1,0,0,0,0,0,0,0,0,0]}],                        {\"template\":{\"data\":{\"histogram2dcontour\":[{\"type\":\"histogram2dcontour\",\"colorbar\":{\"outlinewidth\":0,\"ticks\":\"\"},\"colorscale\":[[0.0,\"#0d0887\"],[0.1111111111111111,\"#46039f\"],[0.2222222222222222,\"#7201a8\"],[0.3333333333333333,\"#9c179e\"],[0.4444444444444444,\"#bd3786\"],[0.5555555555555556,\"#d8576b\"],[0.6666666666666666,\"#ed7953\"],[0.7777777777777778,\"#fb9f3a\"],[0.8888888888888888,\"#fdca26\"],[1.0,\"#f0f921\"]]}],\"choropleth\":[{\"type\":\"choropleth\",\"colorbar\":{\"outlinewidth\":0,\"ticks\":\"\"}}],\"histogram2d\":[{\"type\":\"histogram2d\",\"colorbar\":{\"outlinewidth\":0,\"ticks\":\"\"},\"colorscale\":[[0.0,\"#0d0887\"],[0.1111111111111111,\"#46039f\"],[0.2222222222222222,\"#7201a8\"],[0.3333333333333333,\"#9c179e\"],[0.4444444444444444,\"#bd3786\"],[0.5555555555555556,\"#d8576b\"],[0.6666666666666666,\"#ed7953\"],[0.7777777777777778,\"#fb9f3a\"],[0.8888888888888888,\"#fdca26\"],[1.0,\"#f0f921\"]]}],\"heatmap\":[{\"type\":\"heatmap\",\"colorbar\":{\"outlinewidth\":0,\"ticks\":\"\"},\"colorscale\":[[0.0,\"#0d0887\"],[0.1111111111111111,\"#46039f\"],[0.2222222222222222,\"#7201a8\"],[0.3333333333333333,\"#9c179e\"],[0.4444444444444444,\"#bd3786\"],[0.5555555555555556,\"#d8576b\"],[0.6666666666666666,\"#ed7953\"],[0.7777777777777778,\"#fb9f3a\"],[0.8888888888888888,\"#fdca26\"],[1.0,\"#f0f921\"]]}],\"heatmapgl\":[{\"type\":\"heatmapgl\",\"colorbar\":{\"outlinewidth\":0,\"ticks\":\"\"},\"colorscale\":[[0.0,\"#0d0887\"],[0.1111111111111111,\"#46039f\"],[0.2222222222222222,\"#7201a8\"],[0.3333333333333333,\"#9c179e\"],[0.4444444444444444,\"#bd3786\"],[0.5555555555555556,\"#d8576b\"],[0.6666666666666666,\"#ed7953\"],[0.7777777777777778,\"#fb9f3a\"],[0.8888888888888888,\"#fdca26\"],[1.0,\"#f0f921\"]]}],\"contourcarpet\":[{\"type\":\"contourcarpet\",\"colorbar\":{\"outlinewidth\":0,\"ticks\":\"\"}}],\"contour\":[{\"type\":\"contour\",\"colorbar\":{\"outlinewidth\":0,\"ticks\":\"\"},\"colorscale\":[[0.0,\"#0d0887\"],[0.1111111111111111,\"#46039f\"],[0.2222222222222222,\"#7201a8\"],[0.3333333333333333,\"#9c179e\"],[0.4444444444444444,\"#bd3786\"],[0.5555555555555556,\"#d8576b\"],[0.6666666666666666,\"#ed7953\"],[0.7777777777777778,\"#fb9f3a\"],[0.8888888888888888,\"#fdca26\"],[1.0,\"#f0f921\"]]}],\"surface\":[{\"type\":\"surface\",\"colorbar\":{\"outlinewidth\":0,\"ticks\":\"\"},\"colorscale\":[[0.0,\"#0d0887\"],[0.1111111111111111,\"#46039f\"],[0.2222222222222222,\"#7201a8\"],[0.3333333333333333,\"#9c179e\"],[0.4444444444444444,\"#bd3786\"],[0.5555555555555556,\"#d8576b\"],[0.6666666666666666,\"#ed7953\"],[0.7777777777777778,\"#fb9f3a\"],[0.8888888888888888,\"#fdca26\"],[1.0,\"#f0f921\"]]}],\"mesh3d\":[{\"type\":\"mesh3d\",\"colorbar\":{\"outlinewidth\":0,\"ticks\":\"\"}}],\"scatter\":[{\"fillpattern\":{\"fillmode\":\"overlay\",\"size\":10,\"solidity\":0.2},\"type\":\"scatter\"}],\"parcoords\":[{\"type\":\"parcoords\",\"line\":{\"colorbar\":{\"outlinewidth\":0,\"ticks\":\"\"}}}],\"scatterpolargl\":[{\"type\":\"scatterpolargl\",\"marker\":{\"colorbar\":{\"outlinewidth\":0,\"ticks\":\"\"}}}],\"bar\":[{\"error_x\":{\"color\":\"#2a3f5f\"},\"error_y\":{\"color\":\"#2a3f5f\"},\"marker\":{\"line\":{\"color\":\"#E5ECF6\",\"width\":0.5},\"pattern\":{\"fillmode\":\"overlay\",\"size\":10,\"solidity\":0.2}},\"type\":\"bar\"}],\"scattergeo\":[{\"type\":\"scattergeo\",\"marker\":{\"colorbar\":{\"outlinewidth\":0,\"ticks\":\"\"}}}],\"scatterpolar\":[{\"type\":\"scatterpolar\",\"marker\":{\"colorbar\":{\"outlinewidth\":0,\"ticks\":\"\"}}}],\"histogram\":[{\"marker\":{\"pattern\":{\"fillmode\":\"overlay\",\"size\":10,\"solidity\":0.2}},\"type\":\"histogram\"}],\"scattergl\":[{\"type\":\"scattergl\",\"marker\":{\"colorbar\":{\"outlinewidth\":0,\"ticks\":\"\"}}}],\"scatter3d\":[{\"type\":\"scatter3d\",\"line\":{\"colorbar\":{\"outlinewidth\":0,\"ticks\":\"\"}},\"marker\":{\"colorbar\":{\"outlinewidth\":0,\"ticks\":\"\"}}}],\"scattermapbox\":[{\"type\":\"scattermapbox\",\"marker\":{\"colorbar\":{\"outlinewidth\":0,\"ticks\":\"\"}}}],\"scatterternary\":[{\"type\":\"scatterternary\",\"marker\":{\"colorbar\":{\"outlinewidth\":0,\"ticks\":\"\"}}}],\"scattercarpet\":[{\"type\":\"scattercarpet\",\"marker\":{\"colorbar\":{\"outlinewidth\":0,\"ticks\":\"\"}}}],\"carpet\":[{\"aaxis\":{\"endlinecolor\":\"#2a3f5f\",\"gridcolor\":\"white\",\"linecolor\":\"white\",\"minorgridcolor\":\"white\",\"startlinecolor\":\"#2a3f5f\"},\"baxis\":{\"endlinecolor\":\"#2a3f5f\",\"gridcolor\":\"white\",\"linecolor\":\"white\",\"minorgridcolor\":\"white\",\"startlinecolor\":\"#2a3f5f\"},\"type\":\"carpet\"}],\"table\":[{\"cells\":{\"fill\":{\"color\":\"#EBF0F8\"},\"line\":{\"color\":\"white\"}},\"header\":{\"fill\":{\"color\":\"#C8D4E3\"},\"line\":{\"color\":\"white\"}},\"type\":\"table\"}],\"barpolar\":[{\"marker\":{\"line\":{\"color\":\"#E5ECF6\",\"width\":0.5},\"pattern\":{\"fillmode\":\"overlay\",\"size\":10,\"solidity\":0.2}},\"type\":\"barpolar\"}],\"pie\":[{\"automargin\":true,\"type\":\"pie\"}]},\"layout\":{\"autotypenumbers\":\"strict\",\"colorway\":[\"#636efa\",\"#EF553B\",\"#00cc96\",\"#ab63fa\",\"#FFA15A\",\"#19d3f3\",\"#FF6692\",\"#B6E880\",\"#FF97FF\",\"#FECB52\"],\"font\":{\"color\":\"#2a3f5f\"},\"hovermode\":\"closest\",\"hoverlabel\":{\"align\":\"left\"},\"paper_bgcolor\":\"white\",\"plot_bgcolor\":\"#E5ECF6\",\"polar\":{\"bgcolor\":\"#E5ECF6\",\"angularaxis\":{\"gridcolor\":\"white\",\"linecolor\":\"white\",\"ticks\":\"\"},\"radialaxis\":{\"gridcolor\":\"white\",\"linecolor\":\"white\",\"ticks\":\"\"}},\"ternary\":{\"bgcolor\":\"#E5ECF6\",\"aaxis\":{\"gridcolor\":\"white\",\"linecolor\":\"white\",\"ticks\":\"\"},\"baxis\":{\"gridcolor\":\"white\",\"linecolor\":\"white\",\"ticks\":\"\"},\"caxis\":{\"gridcolor\":\"white\",\"linecolor\":\"white\",\"ticks\":\"\"}},\"coloraxis\":{\"colorbar\":{\"outlinewidth\":0,\"ticks\":\"\"}},\"colorscale\":{\"sequential\":[[0.0,\"#0d0887\"],[0.1111111111111111,\"#46039f\"],[0.2222222222222222,\"#7201a8\"],[0.3333333333333333,\"#9c179e\"],[0.4444444444444444,\"#bd3786\"],[0.5555555555555556,\"#d8576b\"],[0.6666666666666666,\"#ed7953\"],[0.7777777777777778,\"#fb9f3a\"],[0.8888888888888888,\"#fdca26\"],[1.0,\"#f0f921\"]],\"sequentialminus\":[[0.0,\"#0d0887\"],[0.1111111111111111,\"#46039f\"],[0.2222222222222222,\"#7201a8\"],[0.3333333333333333,\"#9c179e\"],[0.4444444444444444,\"#bd3786\"],[0.5555555555555556,\"#d8576b\"],[0.6666666666666666,\"#ed7953\"],[0.7777777777777778,\"#fb9f3a\"],[0.8888888888888888,\"#fdca26\"],[1.0,\"#f0f921\"]],\"diverging\":[[0,\"#8e0152\"],[0.1,\"#c51b7d\"],[0.2,\"#de77ae\"],[0.3,\"#f1b6da\"],[0.4,\"#fde0ef\"],[0.5,\"#f7f7f7\"],[0.6,\"#e6f5d0\"],[0.7,\"#b8e186\"],[0.8,\"#7fbc41\"],[0.9,\"#4d9221\"],[1,\"#276419\"]]},\"xaxis\":{\"gridcolor\":\"white\",\"linecolor\":\"white\",\"ticks\":\"\",\"title\":{\"standoff\":15},\"zerolinecolor\":\"white\",\"automargin\":true,\"zerolinewidth\":2},\"yaxis\":{\"gridcolor\":\"white\",\"linecolor\":\"white\",\"ticks\":\"\",\"title\":{\"standoff\":15},\"zerolinecolor\":\"white\",\"automargin\":true,\"zerolinewidth\":2},\"scene\":{\"xaxis\":{\"backgroundcolor\":\"#E5ECF6\",\"gridcolor\":\"white\",\"linecolor\":\"white\",\"showbackground\":true,\"ticks\":\"\",\"zerolinecolor\":\"white\",\"gridwidth\":2},\"yaxis\":{\"backgroundcolor\":\"#E5ECF6\",\"gridcolor\":\"white\",\"linecolor\":\"white\",\"showbackground\":true,\"ticks\":\"\",\"zerolinecolor\":\"white\",\"gridwidth\":2},\"zaxis\":{\"backgroundcolor\":\"#E5ECF6\",\"gridcolor\":\"white\",\"linecolor\":\"white\",\"showbackground\":true,\"ticks\":\"\",\"zerolinecolor\":\"white\",\"gridwidth\":2}},\"shapedefaults\":{\"line\":{\"color\":\"#2a3f5f\"}},\"annotationdefaults\":{\"arrowcolor\":\"#2a3f5f\",\"arrowhead\":0,\"arrowwidth\":1},\"geo\":{\"bgcolor\":\"white\",\"landcolor\":\"#E5ECF6\",\"subunitcolor\":\"white\",\"showland\":true,\"showlakes\":true,\"lakecolor\":\"white\"},\"title\":{\"x\":0.05},\"mapbox\":{\"style\":\"light\"}}},\"legend\":{\"tracegroupgap\":0},\"title\":{\"text\":\"Ordered Items\"}},                        {\"responsive\": true}                    ).then(function(){\n",
              "                            \n",
              "var gd = document.getElementById('7ba35e6e-ec79-4155-abdb-f22cc41434bd');\n",
              "var x = new MutationObserver(function (mutations, observer) {{\n",
              "        var display = window.getComputedStyle(gd).display;\n",
              "        if (!display || display === 'none') {{\n",
              "            console.log([gd, 'removed!']);\n",
              "            Plotly.purge(gd);\n",
              "            observer.disconnect();\n",
              "        }}\n",
              "}});\n",
              "\n",
              "// Listen for the removal of the full notebook cells\n",
              "var notebookContainer = gd.closest('#notebook-container');\n",
              "if (notebookContainer) {{\n",
              "    x.observe(notebookContainer, {childList: true});\n",
              "}}\n",
              "\n",
              "// Listen for the clearing of the current output cell\n",
              "var outputEl = gd.closest('.output');\n",
              "if (outputEl) {{\n",
              "    x.observe(outputEl, {childList: true});\n",
              "}}\n",
              "\n",
              "                        })                };                            </script>        </div>\n",
              "</body>\n",
              "</html>"
            ]
          },
          "metadata": {}
        }
      ],
      "source": [
        "# centered title\n",
        "fig=px.pie(counts[:10], values=counts[:10], names=counts.index[:10], title='Ordered Items', hole=0.2)\n",
        "\n",
        "# Pull out the slice for the year 2007\n",
        "pull_values = [0.1 if item == 'Chicken Bowl' else 0 for item in counts.index[:10]]\n",
        "fig.update_traces(pull=pull_values)\n",
        "\n",
        "fig.show()"
      ]
    },
    {
      "cell_type": "markdown",
      "metadata": {
        "id": "ErkAJ19REaHi"
      },
      "source": [
        "Pyecharts Vizualization\n",
        "---\n",
        "\n",
        "<font size=+1>\n",
        "\n",
        "Not only interactivity supported, pyecharts also supports the utf-8 display."
      ]
    },
    {
      "cell_type": "code",
      "source": [
        "!pip install -q pyecharts"
      ],
      "metadata": {
        "colab": {
          "base_uri": "https://localhost:8080/"
        },
        "id": "H6Kx1rOwExSr",
        "outputId": "2eb353c3-7c19-4186-b70f-f2b89508102b"
      },
      "execution_count": null,
      "outputs": [
        {
          "output_type": "stream",
          "name": "stdout",
          "text": [
            "\u001b[?25l   \u001b[90m━━━━━━━━━━━━━━━━━━━━━━━━━━━━━━━━━━━━━━━━\u001b[0m \u001b[32m0.0/153.7 kB\u001b[0m \u001b[31m?\u001b[0m eta \u001b[36m-:--:--\u001b[0m\r\u001b[2K   \u001b[91m━━━━━━━━━━━━━━━━━━━━━━━━━━━━━━━━━━━━━━━\u001b[0m\u001b[91m╸\u001b[0m \u001b[32m153.6/153.7 kB\u001b[0m \u001b[31m4.3 MB/s\u001b[0m eta \u001b[36m0:00:01\u001b[0m\r\u001b[2K   \u001b[90m━━━━━━━━━━━━━━━━━━━━━━━━━━━━━━━━━━━━━━━━\u001b[0m \u001b[32m153.7/153.7 kB\u001b[0m \u001b[31m3.1 MB/s\u001b[0m eta \u001b[36m0:00:00\u001b[0m\n",
            "\u001b[?25h"
          ]
        }
      ]
    },
    {
      "cell_type": "code",
      "execution_count": null,
      "metadata": {
        "id": "5C8CVN-xEaHi"
      },
      "outputs": [],
      "source": [
        "from pyecharts import options as opts\n",
        "from pyecharts.charts import Pie"
      ]
    },
    {
      "cell_type": "code",
      "execution_count": null,
      "metadata": {
        "id": "d7G7pE5-EaHj"
      },
      "outputs": [],
      "source": [
        "item=chipotle['item_name'].value_counts().index.tolist()\n",
        "count=chipotle['item_name'].value_counts().values.tolist()\n",
        "\n",
        "# create data for pyechart, [(x,y),...]\n",
        "dataset=[list(z) for z in zip(item[:10],count[:10])]"
      ]
    },
    {
      "cell_type": "code",
      "execution_count": null,
      "metadata": {
        "colab": {
          "base_uri": "https://localhost:8080/",
          "height": 517
        },
        "id": "jlWEPSAFEaHj",
        "outputId": "679a3b08-f157-4cd3-ad89-a7a61aa1e787"
      },
      "outputs": [
        {
          "output_type": "execute_result",
          "data": {
            "text/plain": [
              "<pyecharts.render.display.HTML at 0x7a6da86174d0>"
            ],
            "text/html": [
              "\n",
              "<script>\n",
              "    require.config({\n",
              "        paths: {\n",
              "            'echarts':'https://assets.pyecharts.org/assets/v5/echarts.min'\n",
              "        }\n",
              "    });\n",
              "</script>\n",
              "\n",
              "        <div id=\"24b3f777241c4d9f90257f1cae373bff\" style=\"width:900px; height:500px;\"></div>\n",
              "\n",
              "<script>\n",
              "        require(['echarts'], function(echarts) {\n",
              "                var chart_24b3f777241c4d9f90257f1cae373bff = echarts.init(\n",
              "                    document.getElementById('24b3f777241c4d9f90257f1cae373bff'), 'white', {renderer: 'canvas'});\n",
              "                var option_24b3f777241c4d9f90257f1cae373bff = {\n",
              "    \"animation\": true,\n",
              "    \"animationThreshold\": 2000,\n",
              "    \"animationDuration\": 1000,\n",
              "    \"animationEasing\": \"cubicOut\",\n",
              "    \"animationDelay\": 0,\n",
              "    \"animationDurationUpdate\": 300,\n",
              "    \"animationEasingUpdate\": \"cubicOut\",\n",
              "    \"animationDelayUpdate\": 0,\n",
              "    \"aria\": {\n",
              "        \"enabled\": false\n",
              "    },\n",
              "    \"color\": [\n",
              "        \"#5470c6\",\n",
              "        \"#91cc75\",\n",
              "        \"#fac858\",\n",
              "        \"#ee6666\",\n",
              "        \"#73c0de\",\n",
              "        \"#3ba272\",\n",
              "        \"#fc8452\",\n",
              "        \"#9a60b4\",\n",
              "        \"#ea7ccc\"\n",
              "    ],\n",
              "    \"series\": [\n",
              "        {\n",
              "            \"type\": \"pie\",\n",
              "            \"colorBy\": \"data\",\n",
              "            \"legendHoverLink\": true,\n",
              "            \"selectedMode\": false,\n",
              "            \"selectedOffset\": 10,\n",
              "            \"clockwise\": true,\n",
              "            \"startAngle\": 90,\n",
              "            \"minAngle\": 0,\n",
              "            \"minShowLabelAngle\": 0,\n",
              "            \"avoidLabelOverlap\": true,\n",
              "            \"stillShowZeroSum\": true,\n",
              "            \"percentPrecision\": 2,\n",
              "            \"showEmptyCircle\": true,\n",
              "            \"emptyCircleStyle\": {\n",
              "                \"color\": \"lightgray\",\n",
              "                \"borderColor\": \"#000\",\n",
              "                \"borderWidth\": 0,\n",
              "                \"borderType\": \"solid\",\n",
              "                \"borderDashOffset\": 0,\n",
              "                \"borderCap\": \"butt\",\n",
              "                \"borderJoin\": \"bevel\",\n",
              "                \"borderMiterLimit\": 10,\n",
              "                \"opacity\": 1\n",
              "            },\n",
              "            \"data\": [\n",
              "                {\n",
              "                    \"name\": \"Chicken Bowl\",\n",
              "                    \"value\": 726\n",
              "                },\n",
              "                {\n",
              "                    \"name\": \"Chicken Burrito\",\n",
              "                    \"value\": 553\n",
              "                },\n",
              "                {\n",
              "                    \"name\": \"Chips and Guacamole\",\n",
              "                    \"value\": 479\n",
              "                },\n",
              "                {\n",
              "                    \"name\": \"Steak Burrito\",\n",
              "                    \"value\": 368\n",
              "                },\n",
              "                {\n",
              "                    \"name\": \"Canned Soft Drink\",\n",
              "                    \"value\": 301\n",
              "                },\n",
              "                {\n",
              "                    \"name\": \"Chips\",\n",
              "                    \"value\": 211\n",
              "                },\n",
              "                {\n",
              "                    \"name\": \"Steak Bowl\",\n",
              "                    \"value\": 211\n",
              "                },\n",
              "                {\n",
              "                    \"name\": \"Bottled Water\",\n",
              "                    \"value\": 162\n",
              "                },\n",
              "                {\n",
              "                    \"name\": \"Chicken Soft Tacos\",\n",
              "                    \"value\": 115\n",
              "                },\n",
              "                {\n",
              "                    \"name\": \"Chips and Fresh Tomato Salsa\",\n",
              "                    \"value\": 110\n",
              "                }\n",
              "            ],\n",
              "            \"radius\": [\n",
              "                \"45%\",\n",
              "                \"75%\"\n",
              "            ],\n",
              "            \"center\": [\n",
              "                \"45%\",\n",
              "                \"50%\"\n",
              "            ],\n",
              "            \"roseType\": \"radius\",\n",
              "            \"label\": {\n",
              "                \"show\": true,\n",
              "                \"margin\": 8,\n",
              "                \"formatter\": \"{b}: {c}\",\n",
              "                \"valueAnimation\": false\n",
              "            },\n",
              "            \"labelLine\": {\n",
              "                \"show\": true,\n",
              "                \"showAbove\": false,\n",
              "                \"length\": 15,\n",
              "                \"length2\": 15,\n",
              "                \"smooth\": false,\n",
              "                \"minTurnAngle\": 90,\n",
              "                \"maxSurfaceAngle\": 90\n",
              "            },\n",
              "            \"rippleEffect\": {\n",
              "                \"show\": true,\n",
              "                \"brushType\": \"stroke\",\n",
              "                \"scale\": 2.5,\n",
              "                \"period\": 4\n",
              "            }\n",
              "        }\n",
              "    ],\n",
              "    \"legend\": [\n",
              "        {\n",
              "            \"data\": [\n",
              "                \"Chicken Bowl\",\n",
              "                \"Chicken Burrito\",\n",
              "                \"Chips and Guacamole\",\n",
              "                \"Steak Burrito\",\n",
              "                \"Canned Soft Drink\",\n",
              "                \"Chips\",\n",
              "                \"Steak Bowl\",\n",
              "                \"Bottled Water\",\n",
              "                \"Chicken Soft Tacos\",\n",
              "                \"Chips and Fresh Tomato Salsa\"\n",
              "            ],\n",
              "            \"selected\": {},\n",
              "            \"type\": \"scroll\",\n",
              "            \"show\": true,\n",
              "            \"left\": \"85%\",\n",
              "            \"orient\": \"vertical\",\n",
              "            \"padding\": 5,\n",
              "            \"itemGap\": 10,\n",
              "            \"itemWidth\": 25,\n",
              "            \"itemHeight\": 14,\n",
              "            \"backgroundColor\": \"transparent\",\n",
              "            \"borderColor\": \"#ccc\",\n",
              "            \"borderRadius\": 0,\n",
              "            \"pageButtonItemGap\": 5,\n",
              "            \"pageButtonPosition\": \"end\",\n",
              "            \"pageFormatter\": \"{current}/{total}\",\n",
              "            \"pageIconColor\": \"#2f4554\",\n",
              "            \"pageIconInactiveColor\": \"#aaa\",\n",
              "            \"pageIconSize\": 15,\n",
              "            \"animationDurationUpdate\": 800,\n",
              "            \"selector\": false,\n",
              "            \"selectorPosition\": \"auto\",\n",
              "            \"selectorItemGap\": 7,\n",
              "            \"selectorButtonGap\": 10\n",
              "        }\n",
              "    ],\n",
              "    \"tooltip\": {\n",
              "        \"show\": true,\n",
              "        \"trigger\": \"item\",\n",
              "        \"triggerOn\": \"mousemove|click\",\n",
              "        \"axisPointer\": {\n",
              "            \"type\": \"line\"\n",
              "        },\n",
              "        \"showContent\": true,\n",
              "        \"alwaysShowContent\": false,\n",
              "        \"showDelay\": 0,\n",
              "        \"hideDelay\": 100,\n",
              "        \"enterable\": false,\n",
              "        \"confine\": false,\n",
              "        \"appendToBody\": false,\n",
              "        \"transitionDuration\": 0.4,\n",
              "        \"textStyle\": {\n",
              "            \"fontSize\": 14\n",
              "        },\n",
              "        \"borderWidth\": 0,\n",
              "        \"padding\": 5,\n",
              "        \"order\": \"seriesAsc\"\n",
              "    },\n",
              "    \"title\": [\n",
              "        {\n",
              "            \"show\": true,\n",
              "            \"text\": \"Polularity of Items, \\u6700\\u53d7\\u6b61\\u8fce\\u7684\\u83dc\\u55ae, Popularit\\u00e4t der Artikel\",\n",
              "            \"target\": \"blank\",\n",
              "            \"subtarget\": \"blank\",\n",
              "            \"left\": \"10%\",\n",
              "            \"padding\": 5,\n",
              "            \"itemGap\": 10,\n",
              "            \"textAlign\": \"auto\",\n",
              "            \"textVerticalAlign\": \"auto\",\n",
              "            \"triggerEvent\": false\n",
              "        }\n",
              "    ]\n",
              "};\n",
              "                chart_24b3f777241c4d9f90257f1cae373bff.setOption(option_24b3f777241c4d9f90257f1cae373bff);\n",
              "        });\n",
              "    </script>\n"
            ]
          },
          "metadata": {},
          "execution_count": 13
        }
      ],
      "source": [
        "c=(\n",
        "    Pie()\n",
        "    .add(\"\", dataset,\n",
        "         radius=[\"45%\", \"75%\"],\n",
        "         center=[\"45%\", \"50%\"],\n",
        "         rosetype=\"radius\",\n",
        "        )\n",
        "    .set_series_opts(label_opts=opts.LabelOpts(formatter=\"{b}: {c}\"))\n",
        "    .set_global_opts(\n",
        "                     title_opts=opts.TitleOpts(title=\"Polularity of Items, 最受歡迎的菜單, Popularität der Artikel\",pos_left=\"10%\",),\n",
        "                     legend_opts=opts.LegendOpts(type_=\"scroll\", pos_left=\"85%\", orient=\"vertical\")\n",
        "                    )\n",
        ")\n",
        "c.render_notebook()"
      ]
    },
    {
      "cell_type": "code",
      "execution_count": null,
      "metadata": {
        "colab": {
          "base_uri": "https://localhost:8080/",
          "height": 35
        },
        "id": "DYbuEGGGEaHj",
        "outputId": "24f1203d-902f-4cc1-cd92-7a7a4665a017"
      },
      "outputs": [
        {
          "output_type": "execute_result",
          "data": {
            "text/plain": [
              "'/content/pie_chart.html'"
            ],
            "application/vnd.google.colaboratory.intrinsic+json": {
              "type": "string"
            }
          },
          "metadata": {},
          "execution_count": 14
        }
      ],
      "source": [
        "c.render(\"pie_chart.html\")"
      ]
    },
    {
      "cell_type": "code",
      "execution_count": null,
      "metadata": {
        "colab": {
          "base_uri": "https://localhost:8080/",
          "height": 517
        },
        "id": "mcXEFZAIEaHj",
        "outputId": "9ea52937-2ba5-4392-82aa-2244bc64c5c5"
      },
      "outputs": [
        {
          "output_type": "execute_result",
          "data": {
            "text/plain": [
              "<IPython.core.display.HTML object>"
            ],
            "text/html": [
              "<!DOCTYPE html>\n",
              "<html>\n",
              "<head>\n",
              "    <meta charset=\"UTF-8\">\n",
              "    <title>Awesome-pyecharts</title>\n",
              "                <script type=\"text/javascript\" src=\"https://assets.pyecharts.org/assets/v5/echarts.min.js\"></script>\n",
              "\n",
              "    \n",
              "</head>\n",
              "<body >\n",
              "    <div id=\"24b3f777241c4d9f90257f1cae373bff\" class=\"chart-container\" style=\"width:900px; height:500px; \"></div>\n",
              "    <script>\n",
              "        var chart_24b3f777241c4d9f90257f1cae373bff = echarts.init(\n",
              "            document.getElementById('24b3f777241c4d9f90257f1cae373bff'), 'white', {renderer: 'canvas'});\n",
              "        var option_24b3f777241c4d9f90257f1cae373bff = {\n",
              "    \"animation\": true,\n",
              "    \"animationThreshold\": 2000,\n",
              "    \"animationDuration\": 1000,\n",
              "    \"animationEasing\": \"cubicOut\",\n",
              "    \"animationDelay\": 0,\n",
              "    \"animationDurationUpdate\": 300,\n",
              "    \"animationEasingUpdate\": \"cubicOut\",\n",
              "    \"animationDelayUpdate\": 0,\n",
              "    \"aria\": {\n",
              "        \"enabled\": false\n",
              "    },\n",
              "    \"color\": [\n",
              "        \"#5470c6\",\n",
              "        \"#91cc75\",\n",
              "        \"#fac858\",\n",
              "        \"#ee6666\",\n",
              "        \"#73c0de\",\n",
              "        \"#3ba272\",\n",
              "        \"#fc8452\",\n",
              "        \"#9a60b4\",\n",
              "        \"#ea7ccc\"\n",
              "    ],\n",
              "    \"series\": [\n",
              "        {\n",
              "            \"type\": \"pie\",\n",
              "            \"colorBy\": \"data\",\n",
              "            \"legendHoverLink\": true,\n",
              "            \"selectedMode\": false,\n",
              "            \"selectedOffset\": 10,\n",
              "            \"clockwise\": true,\n",
              "            \"startAngle\": 90,\n",
              "            \"minAngle\": 0,\n",
              "            \"minShowLabelAngle\": 0,\n",
              "            \"avoidLabelOverlap\": true,\n",
              "            \"stillShowZeroSum\": true,\n",
              "            \"percentPrecision\": 2,\n",
              "            \"showEmptyCircle\": true,\n",
              "            \"emptyCircleStyle\": {\n",
              "                \"color\": \"lightgray\",\n",
              "                \"borderColor\": \"#000\",\n",
              "                \"borderWidth\": 0,\n",
              "                \"borderType\": \"solid\",\n",
              "                \"borderDashOffset\": 0,\n",
              "                \"borderCap\": \"butt\",\n",
              "                \"borderJoin\": \"bevel\",\n",
              "                \"borderMiterLimit\": 10,\n",
              "                \"opacity\": 1\n",
              "            },\n",
              "            \"data\": [\n",
              "                {\n",
              "                    \"name\": \"Chicken Bowl\",\n",
              "                    \"value\": 726\n",
              "                },\n",
              "                {\n",
              "                    \"name\": \"Chicken Burrito\",\n",
              "                    \"value\": 553\n",
              "                },\n",
              "                {\n",
              "                    \"name\": \"Chips and Guacamole\",\n",
              "                    \"value\": 479\n",
              "                },\n",
              "                {\n",
              "                    \"name\": \"Steak Burrito\",\n",
              "                    \"value\": 368\n",
              "                },\n",
              "                {\n",
              "                    \"name\": \"Canned Soft Drink\",\n",
              "                    \"value\": 301\n",
              "                },\n",
              "                {\n",
              "                    \"name\": \"Chips\",\n",
              "                    \"value\": 211\n",
              "                },\n",
              "                {\n",
              "                    \"name\": \"Steak Bowl\",\n",
              "                    \"value\": 211\n",
              "                },\n",
              "                {\n",
              "                    \"name\": \"Bottled Water\",\n",
              "                    \"value\": 162\n",
              "                },\n",
              "                {\n",
              "                    \"name\": \"Chicken Soft Tacos\",\n",
              "                    \"value\": 115\n",
              "                },\n",
              "                {\n",
              "                    \"name\": \"Chips and Fresh Tomato Salsa\",\n",
              "                    \"value\": 110\n",
              "                }\n",
              "            ],\n",
              "            \"radius\": [\n",
              "                \"45%\",\n",
              "                \"75%\"\n",
              "            ],\n",
              "            \"center\": [\n",
              "                \"45%\",\n",
              "                \"50%\"\n",
              "            ],\n",
              "            \"roseType\": \"radius\",\n",
              "            \"label\": {\n",
              "                \"show\": true,\n",
              "                \"margin\": 8,\n",
              "                \"formatter\": \"{b}: {c}\",\n",
              "                \"valueAnimation\": false\n",
              "            },\n",
              "            \"labelLine\": {\n",
              "                \"show\": true,\n",
              "                \"showAbove\": false,\n",
              "                \"length\": 15,\n",
              "                \"length2\": 15,\n",
              "                \"smooth\": false,\n",
              "                \"minTurnAngle\": 90,\n",
              "                \"maxSurfaceAngle\": 90\n",
              "            },\n",
              "            \"rippleEffect\": {\n",
              "                \"show\": true,\n",
              "                \"brushType\": \"stroke\",\n",
              "                \"scale\": 2.5,\n",
              "                \"period\": 4\n",
              "            }\n",
              "        }\n",
              "    ],\n",
              "    \"legend\": [\n",
              "        {\n",
              "            \"data\": [\n",
              "                \"Chicken Bowl\",\n",
              "                \"Chicken Burrito\",\n",
              "                \"Chips and Guacamole\",\n",
              "                \"Steak Burrito\",\n",
              "                \"Canned Soft Drink\",\n",
              "                \"Chips\",\n",
              "                \"Steak Bowl\",\n",
              "                \"Bottled Water\",\n",
              "                \"Chicken Soft Tacos\",\n",
              "                \"Chips and Fresh Tomato Salsa\"\n",
              "            ],\n",
              "            \"selected\": {},\n",
              "            \"type\": \"scroll\",\n",
              "            \"show\": true,\n",
              "            \"left\": \"85%\",\n",
              "            \"orient\": \"vertical\",\n",
              "            \"padding\": 5,\n",
              "            \"itemGap\": 10,\n",
              "            \"itemWidth\": 25,\n",
              "            \"itemHeight\": 14,\n",
              "            \"backgroundColor\": \"transparent\",\n",
              "            \"borderColor\": \"#ccc\",\n",
              "            \"borderRadius\": 0,\n",
              "            \"pageButtonItemGap\": 5,\n",
              "            \"pageButtonPosition\": \"end\",\n",
              "            \"pageFormatter\": \"{current}/{total}\",\n",
              "            \"pageIconColor\": \"#2f4554\",\n",
              "            \"pageIconInactiveColor\": \"#aaa\",\n",
              "            \"pageIconSize\": 15,\n",
              "            \"animationDurationUpdate\": 800,\n",
              "            \"selector\": false,\n",
              "            \"selectorPosition\": \"auto\",\n",
              "            \"selectorItemGap\": 7,\n",
              "            \"selectorButtonGap\": 10\n",
              "        }\n",
              "    ],\n",
              "    \"tooltip\": {\n",
              "        \"show\": true,\n",
              "        \"trigger\": \"item\",\n",
              "        \"triggerOn\": \"mousemove|click\",\n",
              "        \"axisPointer\": {\n",
              "            \"type\": \"line\"\n",
              "        },\n",
              "        \"showContent\": true,\n",
              "        \"alwaysShowContent\": false,\n",
              "        \"showDelay\": 0,\n",
              "        \"hideDelay\": 100,\n",
              "        \"enterable\": false,\n",
              "        \"confine\": false,\n",
              "        \"appendToBody\": false,\n",
              "        \"transitionDuration\": 0.4,\n",
              "        \"textStyle\": {\n",
              "            \"fontSize\": 14\n",
              "        },\n",
              "        \"borderWidth\": 0,\n",
              "        \"padding\": 5,\n",
              "        \"order\": \"seriesAsc\"\n",
              "    },\n",
              "    \"title\": [\n",
              "        {\n",
              "            \"show\": true,\n",
              "            \"text\": \"Polularity of Items, \\u6700\\u53d7\\u6b61\\u8fce\\u7684\\u83dc\\u55ae, Popularit\\u00e4t der Artikel\",\n",
              "            \"target\": \"blank\",\n",
              "            \"subtarget\": \"blank\",\n",
              "            \"left\": \"10%\",\n",
              "            \"padding\": 5,\n",
              "            \"itemGap\": 10,\n",
              "            \"textAlign\": \"auto\",\n",
              "            \"textVerticalAlign\": \"auto\",\n",
              "            \"triggerEvent\": false\n",
              "        }\n",
              "    ]\n",
              "};\n",
              "        chart_24b3f777241c4d9f90257f1cae373bff.setOption(option_24b3f777241c4d9f90257f1cae373bff);\n",
              "    </script>\n",
              "</body>\n",
              "</html>\n"
            ]
          },
          "metadata": {},
          "execution_count": 15
        }
      ],
      "source": [
        "from IPython.display import HTML\n",
        "\n",
        "HTML('pie_chart.html')"
      ]
    },
    {
      "cell_type": "code",
      "execution_count": null,
      "metadata": {
        "trusted": true,
        "id": "vD2AXxRNEaHj"
      },
      "outputs": [],
      "source": [
        "# 3. Nan info\n",
        "\n",
        "chipotle.isnull().sum(0)"
      ]
    },
    {
      "cell_type": "markdown",
      "metadata": {
        "id": "th_8XWJNEaHj"
      },
      "source": [
        "Ignore the Nan items since only  occur at `choice_description` feature!"
      ]
    },
    {
      "cell_type": "markdown",
      "metadata": {
        "execution": {
          "iopub.execute_input": "2025-05-01T09:39:50.504699Z",
          "iopub.status.busy": "2025-05-01T09:39:50.504303Z",
          "iopub.status.idle": "2025-05-01T09:39:50.510906Z",
          "shell.execute_reply": "2025-05-01T09:39:50.510036Z",
          "shell.execute_reply.started": "2025-05-01T09:39:50.504676Z"
        },
        "id": "iZS-u0pXEaHj"
      },
      "source": [
        "# 2 Convert 'item_price'\n",
        "\n",
        "chipotle['item_price'] =chipotle['item_price'].str.replace('$','')"
      ]
    },
    {
      "cell_type": "code",
      "execution_count": null,
      "metadata": {
        "trusted": true,
        "id": "_CfUgEnMEaHj"
      },
      "outputs": [],
      "source": [
        "# 2. Convert `object` format to numeric\n",
        "#    evaulate total in each order\n",
        "\n",
        "chipotle['item_price'] =chipotle['item_price'].str.replace('$','')\n",
        "\n",
        "chipotle['item_price']=chipotle['item_price'].astype(float)\n",
        "chipotle['quantity']=chipotle['quantity'].astype(int)\n",
        "\n",
        "item_price = pd.to_numeric(chipotle['item_price'])\n",
        "quantity = pd.to_numeric(chipotle['quantity'])\n",
        "\n",
        "chipotle['order_value'] = quantity* item_price\n",
        "\n",
        "chipotle[:6]"
      ]
    },
    {
      "cell_type": "code",
      "execution_count": null,
      "metadata": {
        "trusted": true,
        "id": "HEqEAzgXEaHj"
      },
      "outputs": [],
      "source": [
        "chipotle.info()"
      ]
    },
    {
      "cell_type": "code",
      "execution_count": null,
      "metadata": {
        "trusted": true,
        "id": "dInRfMrfEaHj"
      },
      "outputs": [],
      "source": [
        "# average of revenue of order if chicken included, 8.75\n",
        "\n",
        "chipotle.loc[chipotle['item_name'].str.contains('Chicken'), ['item_name','item_price']]"
      ]
    },
    {
      "cell_type": "markdown",
      "metadata": {
        "id": "xI7JGg70EaHk"
      },
      "source": [
        "Values of Orders\n",
        "---\n",
        "Not only one item included in each order, sum up items in each order:"
      ]
    },
    {
      "cell_type": "code",
      "execution_count": null,
      "metadata": {
        "trusted": true,
        "id": "NrRApoXCEaHk"
      },
      "outputs": [],
      "source": [
        "# Average $9.25, Reasonable!, the revenue from 'Steak' order is higher than 'Chicken' one\n",
        "\n",
        "chipotle.loc[chipotle['item_name'].str.contains('Steak'), ['item_name','item_price']]\n"
      ]
    },
    {
      "cell_type": "code",
      "execution_count": null,
      "metadata": {
        "trusted": true,
        "id": "EgXy2sn0EaHk"
      },
      "outputs": [],
      "source": [
        "chipotle.loc[chipotle['item_name'].str.contains('Steak'), ['item_price']].mean()"
      ]
    },
    {
      "cell_type": "markdown",
      "metadata": {
        "id": "WlM-1RR-EaHk"
      },
      "source": [
        "EDA Advanced\n",
        "---\n",
        "<font size=+1>\n",
        "\n",
        "Original dataset is detailed list for each item in each order. <br>However, there is not always only one item in one order, <br>Maybe more than two items, meaning `order in group`."
      ]
    },
    {
      "cell_type": "code",
      "execution_count": null,
      "metadata": {
        "trusted": true,
        "id": "oKuTdDC8EaHk"
      },
      "outputs": [],
      "source": [
        "#  put together by group\n",
        "\n",
        "df_group = chipotle.groupby(['order_id']).sum()"
      ]
    },
    {
      "cell_type": "code",
      "execution_count": null,
      "metadata": {
        "trusted": true,
        "id": "4zJU40SBEaHk"
      },
      "outputs": [],
      "source": [
        "df_group[:10]"
      ]
    },
    {
      "cell_type": "markdown",
      "metadata": {
        "id": "BsNcgvkqEaHo"
      },
      "source": [
        "What's Value of order\n",
        "---\n",
        "\n",
        "<font size=+1>\n",
        "\n",
        "Suppose that $ X_1,X_2,\\cdots,X_n$ identically independed random variables (i.i.d.r.v.'s), we can use the following to represent the information of samples\n",
        "1. mean, i.e average,\n",
        "$$ \\bar X=\\frac{X_1+X_2+\\dots+X_n}{n}$$\n",
        "2. median,\n",
        "   $$P(X_i< X_{median})\\approx\\frac{1}{2}, P(X_i> X_{median})\\approx\\frac{1}{2}$$\n",
        "\n",
        "Both are similar but mean could be more skewed by orders that were significantly more expensive or significantly cheaper. If the variable is not in `float`/`int` format, but in ``category` one, use median is more suitable.    "
      ]
    },
    {
      "cell_type": "code",
      "execution_count": null,
      "metadata": {
        "trusted": true,
        "id": "Egn4RaAKEaHo"
      },
      "outputs": [],
      "source": [
        "# Mean statistic\n",
        "df_group[['quantity','order_value']].mean()"
      ]
    },
    {
      "cell_type": "code",
      "execution_count": null,
      "metadata": {
        "trusted": true,
        "id": "Foet0sMLEaHp"
      },
      "outputs": [],
      "source": [
        "# Median statistics\n",
        "df_group[['quantity','order_value']].median()"
      ]
    },
    {
      "cell_type": "code",
      "execution_count": null,
      "metadata": {
        "trusted": true,
        "id": "tuI9qUL5EaHp"
      },
      "outputs": [],
      "source": [
        "import matplotlib.pyplot as plt\n",
        "import seaborn as sns"
      ]
    },
    {
      "cell_type": "code",
      "execution_count": null,
      "metadata": {
        "trusted": true,
        "id": "RF0tqVHtEaHp"
      },
      "outputs": [],
      "source": [
        "\n",
        "\n",
        "plt.figure(figsize=(10,4))\n",
        "sns.displot(df_group['order_value'])\n",
        "plt.xlabel(\"Order Value\")\n",
        "plt.ylabel(\"Frequency\")\n",
        "plt.title(\"General Distribution of the Order Value\", size=24);"
      ]
    },
    {
      "cell_type": "code",
      "execution_count": null,
      "metadata": {
        "trusted": true,
        "id": "qqjHptuhEaHp"
      },
      "outputs": [],
      "source": [
        "# boxplot showing the total number of items per order\n",
        "plt.boxplot(df_group['order_value'])\n",
        "plt.title('Total Number of Items per Order')\n",
        "plt.ylabel('Count');"
      ]
    },
    {
      "cell_type": "markdown",
      "metadata": {
        "id": "M_Es-yt6EaHp"
      },
      "source": [
        "Note\n",
        "---\n",
        "\n",
        "<font size=+1>\n",
        "\n",
        "The vast majority of orders concentrates around $20-$30 but the plot reaches values up to $200,\n",
        "(but only few orders). These data are named as `outliers`."
      ]
    },
    {
      "cell_type": "code",
      "execution_count": null,
      "metadata": {
        "trusted": true,
        "id": "y2eiOOeTEaHp"
      },
      "outputs": [],
      "source": [
        "# arrange the number of items in each order\n",
        "\n",
        "sorted = chipotle[['quantity','order_value']].sort_values('order_value', ascending=False)\n",
        "sorted"
      ]
    },
    {
      "cell_type": "code",
      "execution_count": null,
      "metadata": {
        "trusted": true,
        "id": "VdT_tb1cEaHp"
      },
      "outputs": [],
      "source": [
        "data = chipotle.drop([chipotle.index[3598]])\n",
        "data = data.groupby(['order_id']).sum()"
      ]
    },
    {
      "cell_type": "code",
      "execution_count": null,
      "metadata": {
        "trusted": true,
        "id": "GY0ySO1AEaHp"
      },
      "outputs": [],
      "source": [
        "plt.figure(figsize=(10,6))\n",
        "sns.displot(data['order_value'])\n",
        "plt.xlabel(\"Order Value\")\n",
        "plt.ylabel(\"Frequency\")\n",
        "plt.title(\"General Distribution of the Order Value\", size=24)"
      ]
    },
    {
      "cell_type": "code",
      "execution_count": null,
      "metadata": {
        "trusted": true,
        "id": "rnNq5PEOEaHp"
      },
      "outputs": [],
      "source": [
        "\n",
        "plt.boxplot(data['order_value'])\n",
        "plt.title('Total Number of Items per Order')\n",
        "\n",
        "# change the range of Y-axis\n",
        "# plt.ylim([0,100])\n",
        "plt.ylabel('Count');"
      ]
    },
    {
      "cell_type": "markdown",
      "metadata": {
        "id": "p_bL2HE6EaHq"
      },
      "source": [
        "<img src=\"https://www.recipetineats.com/tachyon/2020/02/Chicken-Burritos_1.jpg?resize=600%2C1260&zoom=0.72\" />\n",
        "<figcaption>Chichen Burrito </figcaption>"
      ]
    },
    {
      "cell_type": "code",
      "execution_count": null,
      "metadata": {
        "trusted": true,
        "id": "Pp2g0fxBEaHq"
      },
      "outputs": [],
      "source": [
        "# What kind of the ordered is most popular\n",
        "\n",
        "common_match = chipotle.groupby('order_id')['item_name'].unique().astype(str).value_counts()\n",
        "common_match[:10]"
      ]
    },
    {
      "cell_type": "markdown",
      "metadata": {
        "id": "PtC8qOw3EaHq"
      },
      "source": [
        "Answer\n",
        "---\n"
      ]
    },
    {
      "cell_type": "code",
      "execution_count": null,
      "metadata": {
        "trusted": true,
        "id": "n3DauIdKEaHq"
      },
      "outputs": [],
      "source": [
        "common_match[-10:]"
      ]
    },
    {
      "cell_type": "markdown",
      "metadata": {
        "id": "ohvl07fnEaHq"
      },
      "source": [
        "Conclusion\n",
        "---\n",
        "\n",
        "<font size=+1>\n",
        "\n",
        "1. Burrito and Bowl are the most common choices and they're usually matched with Chips.\n",
        "2. Drinks are ordered less often."
      ]
    },
    {
      "cell_type": "markdown",
      "metadata": {
        "id": "XZUS9uZuEaHq"
      },
      "source": [
        "Best Recommendation\n",
        "---\n",
        "<font size=+1 >\n",
        "With this knowledge Chipotle could introduce `online` menu with the recommendations of the most popular choices .\n"
      ]
    },
    {
      "cell_type": "code",
      "execution_count": null,
      "metadata": {
        "trusted": true,
        "id": "fZi7-bgxEaHq"
      },
      "outputs": [],
      "source": [
        "#df_menu=\n",
        "df_menu=pd.DataFrame(chipotle[\"item_name\"].value_counts())"
      ]
    },
    {
      "cell_type": "code",
      "execution_count": null,
      "metadata": {
        "trusted": true,
        "id": "JNuBRxjKEaHq"
      },
      "outputs": [],
      "source": [
        "df_menu[:20]"
      ]
    },
    {
      "cell_type": "markdown",
      "metadata": {
        "id": "rbofOFhzEaHq"
      },
      "source": [
        "Streamlit App\n",
        "---"
      ]
    },
    {
      "cell_type": "code",
      "execution_count": null,
      "metadata": {
        "execution": {
          "iopub.execute_input": "2025-05-05T23:51:28.514824Z",
          "iopub.status.busy": "2025-05-05T23:51:28.514518Z",
          "iopub.status.idle": "2025-05-05T23:51:33.479820Z",
          "shell.execute_reply": "2025-05-05T23:51:33.478750Z",
          "shell.execute_reply.started": "2025-05-05T23:51:28.514799Z"
        },
        "trusted": true,
        "id": "GuK_xVfyEaHq"
      },
      "outputs": [],
      "source": [
        "!pip install -q streamlit\n",
        "!npm install localtunnel"
      ]
    },
    {
      "cell_type": "markdown",
      "metadata": {
        "id": "ON89LWPzEaHr"
      },
      "source": [
        "Now create a simple demo:"
      ]
    },
    {
      "cell_type": "code",
      "execution_count": null,
      "metadata": {
        "id": "tV1IhV53EaHr"
      },
      "outputs": [],
      "source": [
        "%%writefile app.py\n",
        "\n",
        "import streamlit as st\n",
        "\n",
        "st.title(\"Hello World 👋\")\n",
        "st.markdown(\n",
        "    \"\"\"\n",
        "    Welcome to the Streamlit World!\n",
        "    \"\"\"\n",
        ")\n",
        "\n",
        "if st.button(\"Send balloons!\"):\n",
        "    st.balloons()"
      ]
    },
    {
      "cell_type": "code",
      "execution_count": null,
      "metadata": {
        "execution": {
          "iopub.execute_input": "2025-05-05T23:51:39.625050Z",
          "iopub.status.busy": "2025-05-05T23:51:39.624684Z",
          "iopub.status.idle": "2025-05-05T23:51:39.633290Z",
          "shell.execute_reply": "2025-05-05T23:51:39.632260Z",
          "shell.execute_reply.started": "2025-05-05T23:51:39.624996Z"
        },
        "trusted": true,
        "id": "kJCqjlr2EaHr"
      },
      "outputs": [],
      "source": [
        "%%writefile app.py\n",
        "\n",
        "\n",
        "import streamlit as st\n",
        "import pandas as pd\n",
        "\n",
        "# Data setup\n",
        "data = {\n",
        "    'item_name': [\n",
        "        'Chicken Bowl', 'Chicken Burrito', 'Chips and Guacamole', 'Steak Burrito', 'Canned Soft Drink',\n",
        "        'Steak Bowl', 'Chips', 'Bottled Water', 'Chicken Soft Tacos', 'Chips and Fresh Tomato Salsa',\n",
        "        'Chicken Salad Bowl', 'Canned Soda', 'Side of Chips', 'Veggie Burrito', 'Barbacoa Burrito',\n",
        "        'Veggie Bowl', 'Carnitas Bowl', 'Barbacoa Bowl', 'Carnitas Burrito', 'Steak Soft Tacos'\n",
        "    ],\n",
        "    'count': [\n",
        "        726, 553, 479, 368, 301, 211, 211, 162, 115, 110, 110, 104, 101, 95, 91, 85, 68, 66, 59, 55\n",
        "    ]\n",
        "}\n",
        "df = pd.DataFrame(data)\n",
        "df.set_index('item_name', inplace=True)\n",
        "\n",
        "# Categorize items\n",
        "def categorize(item):\n",
        "    if any(x in item.lower() for x in ['drink', 'water', 'soda']):\n",
        "        return 'Drink'\n",
        "    return 'Food'\n",
        "\n",
        "df['category'] = df.index.map(categorize)\n",
        "\n",
        "# Get food and drink options\n",
        "food_options = df[df['category'] == 'Food'].index.tolist()\n",
        "drink_options = df[df['category'] == 'Drink'].index.tolist()\n",
        "\n",
        "st.title(\"🍽️ Online Menu\")\n",
        "\n",
        "st.subheader(\"Today's Specials: Chicken Bowl, Steak Burrito\")\n",
        "\n",
        "# --- Food Selection ---\n",
        "st.subheader(\"🍛 Select a Food Item\")\n",
        "selected_food = st.selectbox(\"Choose your food:\", food_options)\n",
        "food_quantity = st.number_input(\"Quantity of food\", min_value=0, max_value=10, value=0, step=1)\n",
        "\n",
        "# --- Drink Selection ---\n",
        "\n",
        "st.subheader(\"🥤 Select a Drink Item\")\n",
        "selected_drink = st.selectbox(\"Choose your drink:\", drink_options)\n",
        "drink_quantity = st.number_input(\"Quantity of drink\", min_value=0, max_value=10, value=0, step=1)\n",
        "\n",
        "# --- Show Order ---\n",
        "if food_quantity > 0 or drink_quantity > 0:\n",
        "    st.subheader(\"🧾 Order Summary\")\n",
        "    summary = []\n",
        "    if food_quantity > 0:\n",
        "        summary.append({\"Item\": selected_food, \"Quantity\": food_quantity})\n",
        "    if drink_quantity > 0:\n",
        "        summary.append({\"Item\": selected_drink, \"Quantity\": drink_quantity})\n",
        "    st.table(pd.DataFrame(summary))\n",
        "else:\n",
        "    st.info(\"Please select quantities for food or drink to see the order summary.\")\n",
        "\n"
      ]
    },
    {
      "cell_type": "code",
      "execution_count": null,
      "metadata": {
        "execution": {
          "iopub.execute_input": "2025-05-05T23:51:44.532138Z",
          "iopub.status.busy": "2025-05-05T23:51:44.531820Z",
          "iopub.status.idle": "2025-05-05T23:51:44.728076Z",
          "shell.execute_reply": "2025-05-05T23:51:44.727092Z",
          "shell.execute_reply.started": "2025-05-05T23:51:44.532114Z"
        },
        "trusted": true,
        "id": "l-UBgUmYEaHr"
      },
      "outputs": [],
      "source": [
        "# Your public ip is the password to the localtunnel\n",
        "!curl ipv4.icanhazip.com"
      ]
    },
    {
      "cell_type": "code",
      "execution_count": null,
      "metadata": {
        "execution": {
          "iopub.execute_input": "2025-05-05T23:51:48.984341Z",
          "iopub.status.busy": "2025-05-05T23:51:48.983957Z"
        },
        "trusted": true,
        "id": "wEwum6WLEaHr"
      },
      "outputs": [],
      "source": [
        "!streamlit run app.py &>./logs.txt & npx localtunnel --port 8501\n"
      ]
    },
    {
      "cell_type": "markdown",
      "metadata": {
        "id": "TGUDKBnVEaHr"
      },
      "source": [
        "Note\n",
        "---\n",
        "\n",
        "\n",
        "<font size=+1>\n",
        "\n",
        "[Official Streamlit](http://streamlit.io) avails function to set up app from gitub's repo; in other words, you can upload app.py to github and create app from Streamlit site.\n",
        "\n",
        "Running streamlit app locally is also very easy;\n",
        "1. install python environment with streamlit package;\n",
        "2. run  the following on the terminal:\n",
        "   ```\n",
        "   > streamlit run app.py --port 8501\n",
        "   ```\n",
        "and browse to visit and test:\n",
        "```\n",
        "http://127.0.0.1:8501\n",
        "```\n",
        "\n",
        "replace the local ip to exact ip if setup."
      ]
    },
    {
      "cell_type": "code",
      "execution_count": null,
      "metadata": {
        "trusted": true,
        "id": "biAWW5mTEaHr"
      },
      "outputs": [],
      "source": []
    },
    {
      "cell_type": "code",
      "execution_count": null,
      "metadata": {
        "trusted": true,
        "id": "sna5CRn0EaHr"
      },
      "outputs": [],
      "source": []
    },
    {
      "cell_type": "code",
      "execution_count": null,
      "metadata": {
        "trusted": true,
        "id": "ln8DNkqzEaHr"
      },
      "outputs": [],
      "source": []
    },
    {
      "cell_type": "code",
      "execution_count": null,
      "metadata": {
        "trusted": true,
        "id": "QL9cjZ_wEaHr"
      },
      "outputs": [],
      "source": [
        "chipotle.to_csv('chipotle.csv',index=False)"
      ]
    },
    {
      "cell_type": "code",
      "execution_count": null,
      "metadata": {
        "trusted": true,
        "id": "Z0OUygZDEaHs"
      },
      "outputs": [],
      "source": []
    },
    {
      "cell_type": "code",
      "execution_count": null,
      "metadata": {
        "trusted": true,
        "id": "-oZp7psKEaHs"
      },
      "outputs": [],
      "source": [
        "df1= chipotle.reset_index()\n",
        "df1 = df1.merge(df1, on='order_id').query('index_x > index_y')\n"
      ]
    },
    {
      "cell_type": "code",
      "execution_count": null,
      "metadata": {
        "trusted": true,
        "id": "SdjRLHqqEaHs"
      },
      "outputs": [],
      "source": [
        "df1 = pd.DataFrame(np.sort(df1[['item_name_x', 'item_name_y']].to_numpy(), axis=1))\n",
        "df1.groupby([*df1]).size().sort_values(ascending=False)\n"
      ]
    },
    {
      "cell_type": "markdown",
      "metadata": {
        "id": "mNvN6UDHEaHs"
      },
      "source": [
        "# Questions\n",
        "\n",
        "## Exercise 1\n",
        "What's meaning about, `NaN`?"
      ]
    },
    {
      "cell_type": "markdown",
      "metadata": {
        "id": "RiCykDUXEaHs"
      },
      "source": [
        "Association Rules\n",
        "---\n",
        "\n",
        "1. Which one is popular?  **The most ordored**\n",
        " item\n",
        "2.  "
      ]
    },
    {
      "cell_type": "code",
      "execution_count": null,
      "metadata": {
        "trusted": true,
        "id": "tpwtDku5EaHs"
      },
      "outputs": [],
      "source": [
        "# delect Unnamed: 0\n",
        "chipotle.drop(columns=['Unnamed: 0'],inplace=True)\n",
        "\n",
        "chipotle.describe(include='all')"
      ]
    },
    {
      "cell_type": "code",
      "execution_count": null,
      "metadata": {
        "trusted": true,
        "id": "wRWvc88kEaHs"
      },
      "outputs": [],
      "source": [
        "# converting item_price to a float\n",
        "chipotle[\"item_price\"] = chipotle['item_price'].apply(lambda x: float(x[1:]))\n",
        "\n",
        "chipotle.item_price.describe()"
      ]
    },
    {
      "cell_type": "code",
      "execution_count": null,
      "metadata": {
        "trusted": true,
        "id": "pPPi0fG6EaHs"
      },
      "outputs": [],
      "source": [
        "# converting item_name to a category\n",
        "chipotle[\"item_name\"] = chipotle[\"item_name\"].astype(\"category\")\n"
      ]
    },
    {
      "cell_type": "code",
      "execution_count": null,
      "metadata": {
        "trusted": true,
        "id": "78HoFhY7EaHs"
      },
      "outputs": [],
      "source": [
        "chipotle.info()"
      ]
    },
    {
      "cell_type": "code",
      "execution_count": null,
      "metadata": {
        "trusted": true,
        "id": "6rHrsmj9EaHs"
      },
      "outputs": [],
      "source": []
    },
    {
      "cell_type": "markdown",
      "metadata": {
        "id": "1yASFeMYEaHt"
      },
      "source": [
        "EDA\n",
        "---"
      ]
    },
    {
      "cell_type": "code",
      "execution_count": null,
      "metadata": {
        "trusted": true,
        "id": "PyeCijlnEaHt"
      },
      "outputs": [],
      "source": [
        "# showing the number of unique item_names\n",
        "print(\"There are \", chipotle[\"item_name\"].nunique(), \" unique item_name values.\")\n"
      ]
    },
    {
      "cell_type": "code",
      "execution_count": null,
      "metadata": {
        "trusted": true,
        "id": "OkKkhfvZEaHt"
      },
      "outputs": [],
      "source": [
        "chipotle['item_name'].value_counts()"
      ]
    },
    {
      "cell_type": "code",
      "execution_count": null,
      "metadata": {
        "trusted": true,
        "id": "Rq0F4tTnEaHt"
      },
      "outputs": [],
      "source": [
        "# showing the list of unique item_names\n",
        "chipotle[\"item_name\"].unique()"
      ]
    },
    {
      "cell_type": "code",
      "execution_count": null,
      "metadata": {
        "trusted": true,
        "id": "s9ms4-kYEaHt"
      },
      "outputs": [],
      "source": [
        "# how many distinct orders there are\n",
        "# print(\"There are\", chip[\"order_id\"].nunique(), \"distinct orders.\")\n",
        "\n",
        "chipotle['order_id'].nunique()\n",
        "\n"
      ]
    },
    {
      "cell_type": "code",
      "execution_count": null,
      "metadata": {
        "trusted": true,
        "id": "2sxFodEjEaHt"
      },
      "outputs": [],
      "source": [
        "from matplotlib import pyplot as plt\n",
        "from seaborn import boxplot\n",
        "\n",
        "# the distribution of the number of line items per order\n",
        "\n",
        "\n",
        "\n"
      ]
    },
    {
      "cell_type": "code",
      "execution_count": null,
      "metadata": {
        "trusted": true,
        "id": "AqTww9QcEaHt"
      },
      "outputs": [],
      "source": [
        "# visualize the distribution of the number of line items per order\n",
        "# boxplot showing the number of line items per order\n",
        "plt.boxplot(chipotle['order_id'].value_counts())\n",
        "plt.title('Number of Line Items per Order')\n",
        "plt.ylabel('Count');\n"
      ]
    },
    {
      "cell_type": "code",
      "execution_count": null,
      "metadata": {
        "trusted": true,
        "id": "m6O_u1ySEaHt"
      },
      "outputs": [],
      "source": [
        "# boxplot showing the total number of items per order\n",
        "plt.boxplot(chipotle.groupby('order_id')['quantity'].sum())\n",
        "plt.title('Total Number of Items per Order')\n",
        "plt.ylabel('Count');"
      ]
    },
    {
      "cell_type": "markdown",
      "metadata": {
        "id": "IWRnzHC5EaHt"
      },
      "source": [
        "Question\n",
        "---\n",
        "What are the top 5 ordered items by total quantity?"
      ]
    },
    {
      "cell_type": "code",
      "execution_count": null,
      "metadata": {
        "trusted": true,
        "id": "GmhhHA4TEaHu"
      },
      "outputs": [],
      "source": [
        "chipotle.groupby(\"item_name\")[\"quantity\"].sum().sort_values(ascending = False).head(5)\n"
      ]
    },
    {
      "cell_type": "markdown",
      "metadata": {
        "id": "uL9lNQ4aEaHu"
      },
      "source": [
        "Question\n",
        "---\n",
        "What is the total number of Steak Burritos ordered?¶"
      ]
    },
    {
      "cell_type": "code",
      "execution_count": null,
      "metadata": {
        "trusted": true,
        "id": "hkWVnF8dEaHu"
      },
      "outputs": [],
      "source": [
        "print(\"Total number of steak burritos ordered:\", chipotle[chipotle[\"item_name\"] == \"Steak Burrito\"][\"quantity\"].sum())\n"
      ]
    },
    {
      "cell_type": "markdown",
      "metadata": {
        "id": "RlPvyOHcEaHu"
      },
      "source": [
        "Question\n",
        "---\n",
        "What was the store's total revenue in these data?"
      ]
    },
    {
      "cell_type": "code",
      "execution_count": null,
      "metadata": {
        "trusted": true,
        "id": "EB37pEnNEaHu"
      },
      "outputs": [],
      "source": [
        "print(\"Total revenue in the dataset\", chipotle[\"item_price\"].sum())\n"
      ]
    },
    {
      "cell_type": "markdown",
      "metadata": {
        "id": "nN5wZ1dJEaHu"
      },
      "source": [
        "Question\n",
        "---\n",
        "What was the largest total price for a single order?\n"
      ]
    },
    {
      "cell_type": "code",
      "execution_count": null,
      "metadata": {
        "trusted": true,
        "id": "pZ0Z0nKIEaHu"
      },
      "outputs": [],
      "source": [
        "print(chipotle.groupby(\"order_id\")[\"item_price\"].sum().sort_values(ascending=False).head(1))\n",
        "\n"
      ]
    },
    {
      "cell_type": "code",
      "execution_count": null,
      "metadata": {
        "trusted": true,
        "id": "0eU9LjVjEaHu"
      },
      "outputs": [],
      "source": [
        "chipotle[chipotle[\"order_id\"] == chipotle.groupby(\"order_id\")[\"item_price\"].sum().sort_values(ascending=False).head(1).index[0]]"
      ]
    },
    {
      "cell_type": "markdown",
      "metadata": {
        "id": "hFqxkJvZEaHu"
      },
      "source": []
    },
    {
      "cell_type": "markdown",
      "metadata": {
        "id": "DCDkbS9QEaHu"
      },
      "source": [
        "Question\n",
        "---\n",
        "Which order had the `largest` total quantity of items purchased?¶\n"
      ]
    },
    {
      "cell_type": "code",
      "execution_count": null,
      "metadata": {
        "trusted": true,
        "id": "ifnHpEd8EaHv"
      },
      "outputs": [],
      "source": [
        "print(chipotle.groupby(\"order_id\")[\"quantity\"].sum().sort_values(ascending=False).head(1))\n"
      ]
    },
    {
      "cell_type": "code",
      "execution_count": null,
      "metadata": {
        "trusted": true,
        "id": "BZ9GqZAkEaHv"
      },
      "outputs": [],
      "source": [
        "# Showing order_id 1443's entire order:\n",
        "chipotle[chipotle[\"order_id\"] == chipotle.groupby(\"order_id\")[\"item_price\"].sum().sort_values(ascending=False).head(1).index[0]]\n",
        "\n"
      ]
    },
    {
      "cell_type": "markdown",
      "metadata": {
        "id": "Erb-fA9oEaHv"
      },
      "source": [
        "Question\n",
        "---\n",
        "Which order had the largest total quantity of items purchased?¶\n"
      ]
    },
    {
      "cell_type": "code",
      "execution_count": null,
      "metadata": {
        "trusted": true,
        "id": "sPexDXNPEaHv"
      },
      "outputs": [],
      "source": [
        "print(chipotle.groupby(\"order_id\")[\"quantity\"].sum().sort_values(ascending=False).head(1))"
      ]
    },
    {
      "cell_type": "code",
      "execution_count": null,
      "metadata": {
        "trusted": true,
        "id": "yAVC7oQNEaHv"
      },
      "outputs": [],
      "source": [
        "# list all the order\n",
        "chipotle[chipotle[\"order_id\"] == chipotle.groupby(\"order_id\")[\"quantity\"].sum().sort_values(ascending=False).head(1).index[0]]"
      ]
    },
    {
      "cell_type": "markdown",
      "metadata": {
        "id": "LHrr9Bo0EaHv"
      },
      "source": [
        "Association Rules\n",
        "---"
      ]
    },
    {
      "cell_type": "markdown",
      "metadata": {
        "id": "YSF7T73QEaHv"
      },
      "source": []
    },
    {
      "cell_type": "code",
      "execution_count": null,
      "metadata": {
        "trusted": true,
        "id": "3t9Gw1ghEaHv"
      },
      "outputs": [],
      "source": [
        "df_chipBin = pd.get_dummies(chipotle    [\"item_name\"])\n",
        "df_chipBin = pd.concat([chipotle[\"order_id\"], df_chipBin], axis = 1)\n",
        "df_chipBin = df_chipBin.groupby(\"order_id\").sum()\n",
        "df_chipBin.reset_index(\"order_id\")\n",
        "df_chipBin[df_chipBin > 1] = 1"
      ]
    },
    {
      "cell_type": "code",
      "execution_count": null,
      "metadata": {
        "trusted": true,
        "id": "_vYbrQrrEaHv"
      },
      "outputs": [],
      "source": [
        "df_chipBin.head()"
      ]
    },
    {
      "cell_type": "code",
      "execution_count": null,
      "metadata": {
        "trusted": true,
        "id": "kspQKlhaEaHv"
      },
      "outputs": [],
      "source": [
        "!pip install -q mlxtend"
      ]
    },
    {
      "cell_type": "code",
      "execution_count": null,
      "metadata": {
        "trusted": true,
        "id": "M62qPJUhEaHv"
      },
      "outputs": [],
      "source": [
        "\n",
        "from mlxtend.preprocessing import TransactionEncoder\n",
        "from mlxtend.frequent_patterns import apriori, association_rules"
      ]
    },
    {
      "cell_type": "code",
      "execution_count": null,
      "metadata": {
        "trusted": true,
        "id": "Ugpk9mzMEaHv"
      },
      "outputs": [],
      "source": [
        "# Initial frequence mining\n",
        "df_chipBin.sum()\n",
        "df_chipBin.sum().sort_values(ascending=False).head(10)\n",
        "# Frequent itemsets\n",
        "\n",
        "\n"
      ]
    },
    {
      "cell_type": "code",
      "execution_count": null,
      "metadata": {
        "trusted": true,
        "id": "hsdSDgjBEaHw"
      },
      "outputs": [],
      "source": [
        "apriori(df_chipBin, min_support = 0.5, use_colnames=True)\n"
      ]
    },
    {
      "cell_type": "markdown",
      "metadata": {
        "id": "NSpkG_PZEaHw"
      },
      "source": [
        "There are `no `frequent itemsets in this data with the minimum support value of 0.5. This is because there are no itemsets that appear within 50% or more of the transactions in our data."
      ]
    },
    {
      "cell_type": "code",
      "execution_count": null,
      "metadata": {
        "trusted": true,
        "id": "3mFyqLFYEaHw"
      },
      "outputs": [],
      "source": [
        "# absolute support and relative support\n",
        "df_chipBin.sum()\n",
        "df_chipBin.sum().sort_values(ascending=False).head(10)\n",
        "# relative support\n",
        "df_chipBin.sum()/len(df_chipBin)\n",
        "df_chipBin.sum()/len(df_chipBin).sort_values(ascending=False).head(10)\n"
      ]
    },
    {
      "cell_type": "code",
      "execution_count": null,
      "metadata": {
        "trusted": true,
        "id": "aoBLUZGfEaHw"
      },
      "outputs": [],
      "source": [
        "item_counts = df_chipBin.sum(axis=0).sort_values(ascending=False)\n",
        "\n",
        "item_supports = item_counts / len(df_chipBin.index)"
      ]
    },
    {
      "cell_type": "code",
      "execution_count": null,
      "metadata": {
        "trusted": true,
        "id": "9FHhwv7vEaHw"
      },
      "outputs": [],
      "source": [
        "item_counts_df = pd.DataFrame({\n",
        "    'Absolute support': item_counts,\n",
        "    'Relative support': item_supports })\n",
        "\n",
        "item_counts_df"
      ]
    },
    {
      "cell_type": "code",
      "execution_count": null,
      "metadata": {
        "trusted": true,
        "id": "llrV9BV7EaHw"
      },
      "outputs": [],
      "source": [
        "# Re-calculating frequent itemsets with lower min_support value 0.0005\n",
        "chip_ap = apriori(df_chipBin, min_support = 0.005, use_colnames=True)\n",
        "\n",
        "print(\"There are\", len(chip_ap[\"itemsets\"]), \"frequent itemsets.\")\n",
        "\n",
        "chip_ap.sort_values(\"support\", ascending = False)"
      ]
    },
    {
      "cell_type": "code",
      "execution_count": null,
      "metadata": {
        "trusted": true,
        "id": "oV7MLSJgEaHw"
      },
      "outputs": [],
      "source": [
        "new_ap = apriori(df_chipBin, min_support = 0.01, use_colnames=True)\n",
        "\n",
        "\n",
        "print(\"There are\", len(new_ap[\"itemsets\"]), \"frequent itemsets that meet a minimum support of 0.01.\")\n",
        "\n",
        "new_ap.sort_values(\"support\", ascending = False)"
      ]
    },
    {
      "cell_type": "markdown",
      "metadata": {
        "id": "0ujD5RdvEaHx"
      },
      "source": [
        "Showing the strongest association rules:¶\n",
        "\n",
        "Filtering rules with a minimum lift threshold of 2 and sorting the result by confidence (descending).\n",
        "\n",
        "Rules\n",
        "---\n",
        "1. Support($A$) = $\\frac{\\#(A_s)}{\\#(all items)}$\n",
        "2. Conidence = $P(A\\to B)=P(B|A)=\\frac{Supp(AB)}{Supp(A)}$\n",
        "3. Lift $P(A\\to B)$ = $\\frac{Supp(A \\cup B)}{Supp(A)Supp(B)}$, i.e. the ratio of the observed support to that expected if A and B were independent."
      ]
    },
    {
      "cell_type": "markdown",
      "metadata": {
        "id": "RE1mDH22EaHx"
      },
      "source": []
    },
    {
      "cell_type": "code",
      "execution_count": null,
      "metadata": {
        "trusted": true,
        "id": "lB22dP2XEaHx"
      },
      "outputs": [],
      "source": [
        "lift_ap = association_rules(new_ap, metric = \"lift\", min_threshold = 2)\n",
        "\n",
        "lift_ap = lift_ap.sort_values(\"confidence\", ascending = False)\n",
        "\n",
        "print(\"The strongest rule is:\", lift_ap.head(1))\n",
        "\n",
        "lift_ap"
      ]
    },
    {
      "cell_type": "markdown",
      "metadata": {
        "id": "t8h07fFsEaHx"
      },
      "source": [
        "wWth a confidence value of 0.8, 80% of transactions containing, both bottled water and chips will also contain a chicken bowl."
      ]
    },
    {
      "cell_type": "code",
      "execution_count": null,
      "metadata": {
        "trusted": true,
        "id": "p45DFOqkEaHx"
      },
      "outputs": [],
      "source": [
        "rules = association_rules(new_ap, metric=\"confidence\", min_threshold = 0)\n",
        "\n",
        "guac = rules[rules[\"consequents\"].apply(lambda x: \"Chicken Burrito\" in x)]\n",
        "\n",
        "guac = guac.sort_values([\"confidence\", \"lift\"], ascending = False)\n",
        "\n",
        "guac.head()"
      ]
    },
    {
      "cell_type": "markdown",
      "metadata": {
        "id": "pkjPvk69EaHx"
      },
      "source": [
        "With confidence, 0.351852, lift, 1.319692,  it indicates that the strongest association rule here are transactions that contain `Chicken Burritoand` and 6 pack soft drink."
      ]
    },
    {
      "cell_type": "code",
      "execution_count": null,
      "metadata": {
        "trusted": true,
        "id": "CSHOuiYPEaHx"
      },
      "outputs": [],
      "source": [
        "# Associaion\n",
        "from mlxtend.frequent_patterns import apriori, association_rules\n",
        "\n"
      ]
    },
    {
      "cell_type": "code",
      "execution_count": null,
      "metadata": {
        "id": "dr1-_S6wEaHx"
      },
      "outputs": [],
      "source": [
        "# Preview important columns\n",
        "df = chipotle[['order_id', 'item_name']]\n",
        "\n",
        "# Create basket: 1 if item is in order, else 0\n",
        "basket = (\n",
        "    df.groupby(['order_id', 'item_name'])['item_name']\n",
        "    .count().unstack().reset_index().fillna(0)\n",
        "    .set_index('order_id')\n",
        ")"
      ]
    },
    {
      "cell_type": "code",
      "execution_count": null,
      "metadata": {
        "id": "fIes90McEaHx"
      },
      "outputs": [],
      "source": [
        "# basket = basket.applymap(lambda x: 1 if x > 0 else 0)\n",
        "basket = basket.astype(bool).astype(int)"
      ]
    },
    {
      "cell_type": "code",
      "execution_count": null,
      "metadata": {
        "id": "sdzg-UOPEaHx"
      },
      "outputs": [],
      "source": [
        "# Find frequent itemsets with min_support\n",
        "frequent_itemsets = apriori(basket, min_support=0.02, use_colnames=True)"
      ]
    },
    {
      "cell_type": "code",
      "execution_count": null,
      "metadata": {
        "id": "ovLF_8JUEaHy"
      },
      "outputs": [],
      "source": [
        "# Generate association rules\n",
        "rules = association_rules(frequent_itemsets, metric=\"lift\", min_threshold=1)"
      ]
    },
    {
      "cell_type": "code",
      "execution_count": null,
      "metadata": {
        "id": "87fROFLUEaHy"
      },
      "outputs": [],
      "source": [
        "# Sort by highest lift\n",
        "rules = rules.sort_values('lift', ascending=False)"
      ]
    },
    {
      "cell_type": "code",
      "execution_count": null,
      "metadata": {
        "id": "G6yBe3zREaHy"
      },
      "outputs": [],
      "source": [
        "# Show top rules\n",
        "rules[['antecedents', 'consequents', 'support', 'confidence', 'lift']].head()"
      ]
    },
    {
      "cell_type": "code",
      "execution_count": null,
      "metadata": {
        "id": "vmLrK04AEaHy"
      },
      "outputs": [],
      "source": [
        "\n",
        "\n",
        "\n",
        "\n",
        "\n",
        "\n",
        "\n",
        "\n",
        "\n",
        "\n",
        "📈 Output Sample\n",
        "This would yield insights like:\n",
        "\n",
        "Antecedent\tConsequent\tConfidence\tLift\n",
        "{Chips}\t{Guacamole}\t0.6\t3.2\n",
        "{Chicken Bowl}\t{Canned Soft Drink}\t0.4\t2.5\n",
        "\n",
        "Would you like me to run this on your data and show the top associations?\n",
        "\n",
        "\n",
        "\n",
        "\n",
        "\n",
        "\n",
        "\n",
        "\n",
        "\n"
      ]
    },
    {
      "cell_type": "code",
      "execution_count": null,
      "metadata": {
        "id": "hvliTm8AEaHy"
      },
      "outputs": [],
      "source": []
    }
  ],
  "metadata": {
    "kaggle": {
      "accelerator": "none",
      "dataSources": [],
      "dockerImageVersionId": 31012,
      "isGpuEnabled": false,
      "isInternetEnabled": true,
      "language": "python",
      "sourceType": "notebook"
    },
    "kernelspec": {
      "display_name": "Python 3",
      "language": "python",
      "name": "python3"
    },
    "language_info": {
      "codemirror_mode": {
        "name": "ipython",
        "version": 3
      },
      "file_extension": ".py",
      "mimetype": "text/x-python",
      "name": "python",
      "nbconvert_exporter": "python",
      "pygments_lexer": "ipython3",
      "version": "3.10.9"
    },
    "colab": {
      "provenance": []
    }
  },
  "nbformat": 4,
  "nbformat_minor": 0
}