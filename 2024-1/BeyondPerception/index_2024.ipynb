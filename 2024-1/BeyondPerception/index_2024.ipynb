{
 "cells": [
  {
   "cell_type": "markdown",
   "id": "658b90a3-95d9-453e-85d8-3f85a99ebecc",
   "metadata": {},
   "source": [
    "Goals\n",
    "---\n",
    "1. Inspiration Finding\n",
    "2. Learning Smarter, bot not harder\n",
    "3. Enlist Support, Progress and Evolvolution\n",
    "\n",
    "```\n",
    " Even if didin't receive support you needed before,\n",
    " U can forget your own path since today.\n",
    "```"
   ]
  },
  {
   "cell_type": "markdown",
   "id": "50793c48-7f04-4835-b982-cf798b53705e",
   "metadata": {
    "jp-MarkdownHeadingCollapsed": true
   },
   "source": [
    "<details>\n",
    "<summary>\n",
    " <a class=\"btnfire small stroke\"><em class=\"fas fa-chevron-circle-down\"></em>\n",
    "    <font size=\"4em\"><font color=\"brown\">Question, </font></font>\n",
    "  </a>\n",
    "    Where is the coldest place  in the (known) Universe?\n",
    "\n",
    "---\n",
    "</summary>\n",
    "\n",
    " 1. The coldest Temperature on Moon is $-275^\\circ$ F,\n",
    " 2. The coldest Temperature on Mars is $-243^\\circ$ F,\n",
    " 3.  The coldest Temperature in deep outer space is $−455\\circ$ F,\n",
    " 4. At Wolfgang Ketterle’s lab, MIT, Cambridge, Temperature achieved: $\\color{red}−459.67^\\circ$ F,\n",
    "  (Nobel prize in Physics 2001).\n"
   ]
  },
  {
   "cell_type": "markdown",
   "id": "a7ab1f3e-7c5a-4492-9071-05c1ff940463",
   "metadata": {},
   "source": [
    "<details>\n",
    "<summary>\n",
    " <a class=\"btnfire small stroke\"><em class=\"fas fa-chevron-circle-down\"></em>\n",
    "    <font size=\"4em\"><font color=\"brown\"> Question, </font></font>\n",
    "  </a>\n",
    "    <a href=\"https://www.cantorsparadise.com/seeing-the-invisible-03421b9dc4b8\">Seeing the Invisible</a>, by Eyes: How to improve the odds of survival for their pilots and planes in WWII,\n",
    "    <br>\n",
    "    <img src=\"imgs/plane.webp\" width=300 align=\"center\" />\n",
    "\n",
    "---\n",
    "</summary>\n",
    "\n",
    "<pre>\n",
    "     “The real voyage of discovery consists not in seeking new landscapes, but in having new eyes.” — Marcel Proust (1871–1922)\n",
    "</pre>\n",
    "\n",
    "| Section of Plain | Bullets/feet^2 |\n",
    "|:----: | :----: |\n",
    "| Engine |  1.11 |\n",
    "| Fuel system | 1.55 |\n",
    "| Fuselag |  1.73 |\n",
    "| Others | 1.80|\n",
    "\n",
    "**Example** (the healthcare industry),  when the effectiveness of a treatment fails to account for those who drop out due to ill health or even death.\n",
    "\n",
    "Wald's calculated the data as follows:\n",
    "\n",
    "| Part | P(survived) |\n",
    "|:----: | :----: |\n",
    "| Entire Plane | .85 |\n",
    "| Engine |  .61 |\n",
    "| Fuel system | .95 |\n",
    "| Fuselag |  .85 |\n",
    "| Others | .98|"
   ]
  },
  {
   "cell_type": "markdown",
   "id": "7e5a392b-f3b5-4d13-a594-c4f1d3647663",
   "metadata": {},
   "source": [
    "<details>\n",
    "<summary>\n",
    " <a class=\"btnfire small stroke\"><em class=\"fas fa-chevron-circle-down\"></em>\n",
    "    <font size=\"4em\"><font color=\"brown\"> Question, </font></font>\n",
    "  </a>\n",
    "    Where is the water-spilled area on the wall?\n",
    "    <br>\n",
    "    <img src=\"imgs/wetwall.jpg\" width=300 align=\"center\" />\n",
    "\n",
    "---\n",
    "</summary>\n",
    "\n",
    "Yes, correct! No question, others don’t answer:\n",
    "```\n",
    "  Wet area gets darker if water was spilled on the wall.\n",
    "```\n",
    "But why?\n",
    "\n",
    "Visible light is a small part of the entire set, which is known as the Electromagnetic Spectrum.\n",
    "\n",
    "<img src=\"imgs/color.jpg\" width=600 align=\"center\" />\n",
    "\n",
    "Explain:\n",
    "\n",
    "<img src=\"imgs/refract.jpg\" width=600 align=\"center\" />\n",
    "<BR>\n",
    "At the level of water, the light was reflected if the $ \\theta > \\theta_C$.\n"
   ]
  },
  {
   "cell_type": "markdown",
   "id": "3cd051be-5b8b-409e-8712-a1f39519912b",
   "metadata": {},
   "source": [
    "<details>\n",
    "<summary>\n",
    " <a class=\"btnfire small stroke\"><em class=\"fas fa-chevron-circle-down\"></em>\n",
    "    <font size=\"4em\"><font color=\"brown\"> Question, </font></font>\n",
    "  </a>\n",
    "    What time is it?\n",
    "    <br>\n",
    "   <img src=\"imgs/clock.jpg\" width=300 align=\"center\" />\n",
    "    \n",
    "---\n",
    "</summary>\n",
    "\n",
    "\n",
    "\n",
    "When U enter in the stores, \n",
    "1. \n",
    "<img src=\"https://www.apple.com/tw/iphone-15-pro/images/overview/ios-17/ios17_namedrop__cu0pp9gg0igm_large_2x.jpg\" width=200 align=\"center\" />\n",
    "<br>Steve Jobs first announced iphone at 9:42. As while, the perfect accurate start of product annoucement,  staff made it 41 mininutes, for ipad.  \n",
    "\n",
    "\n",
    "\n",
    "2.\n",
    "<img src=\"https://www.cht.com.tw/ipm/prod/000100006128/image/51271_05032437_050324376002_20240612133434_s.png\" width=200 align=\"center\" />\n",
    "<br>\n",
    "HTC, Proud of MIT, Ever. The most digital devices turned on to assure on work. Like analog clock, doesn't not block any logo and smile.\n",
    "\n",
    "\n",
    "<br>\n",
    "\n",
    "  \n",
    "3.\n",
    "<img src=\"imgs/nokia.png\" width=200 align=\"center\" />\n",
    "<br> Nokia, 科技 始於 人性,  often the annouced year but not exactly.\n",
    "\n",
    "\n",
    "\n",
    "  \n",
    "\n",
    "\n"
   ]
  },
  {
   "cell_type": "markdown",
   "id": "bbd79ec4-6b9b-4b70-80bc-72a089f36061",
   "metadata": {},
   "source": [
    "<details>\n",
    "<summary>\n",
    " <a class=\"btnfire small stroke\"><em class=\"fas fa-chevron-circle-down\"></em>\n",
    "    <font size=\"4em\"><font color=\"brown\">Question, </font></font>\n",
    "  </a>\n",
    "    Why doesn't NASA launch launch Vayage III and IV  to explore the universe?  \n",
    "\n",
    "---\n",
    "</summary>\n",
    "\n",
    "1. Power! Voyager's use unclear power, plutonium-238. but limit. \n",
    "2. Second, Physics:<br>\n",
    "   <img src=\"imgs/spacecraft.jpg\" width=300 /> \n",
    "   <br> Voyager 1 and 2 depended on slingshots from Jupiter and Saturn, and Voyager 2 also flew by Uranus and Neptune. In subsequent decades, those planets have all moved around the solar system. You can’t line up the same slingshots again to exactly chase down the older probes.\n",
    "3. Buget, the most important.   "
   ]
  },
  {
   "cell_type": "markdown",
   "id": "5915d3e6-560f-48d6-8e81-519f22c312e9",
   "metadata": {},
   "source": [
    "<details>\n",
    "<summary>\n",
    " <a class=\"btnfire small stroke\"><em class=\"fas fa-chevron-circle-down\"></em>\n",
    "    <font size=\"4em\"><font color=\"brown\">Question, </font></font>\n",
    "  </a>\n",
    "    What do you see? 2D or 3D picture?\n",
    "<br>\n",
    "<img src=\"imgs/fractal.jpg\" width=300 />\n",
    "\n",
    "---\n",
    "</summary>\n",
    "  "
   ]
  },
  {
   "cell_type": "markdown",
   "id": "89f9a6cb-247a-4b80-b551-d1fb3263f239",
   "metadata": {},
   "source": [
    "<details>\n",
    "<summary>\n",
    " <a class=\"btnfire small stroke\"><em class=\"fas fa-chevron-circle-down\"></em>\n",
    "    <font size=\"4em\"><font color=\"brown\">Question, </font></font>\n",
    "  </a>\n",
    "    Take a break, \"Christina's World\" (1948) by Andrew Wyeth\n",
    "<br>\n",
    "<img src=\"imgs/wyeth.jpg\" width=300 />\n",
    "\n",
    "---\n",
    "</summary>\n",
    "\n",
    "1. What amazing, peace and calm: Christina Olson, lying in a vast field, gazing longingly towards a distant farmhouse.\n",
    "2. Christina Olson, paralyzed,  lying in a vast field, gazing longingly towards a distant farmhouse.\n",
    "3. Dress, grass, farmhouse, hard to reach; melancholic.\n",
    "4. Beauty? Critiqued? See U at  Museum of Modern Art (MoMA) in New York City,"
   ]
  },
  {
   "cell_type": "markdown",
   "id": "3fe1826c-7afe-45ac-be1d-0a94c5d18f81",
   "metadata": {},
   "source": [
    "<details>\n",
    "<summary>\n",
    " <a class=\"btnfire small stroke\"><em class=\"fas fa-chevron-circle-down\"></em>\n",
    "    <font size=\"4em\"><font color=\"brown\">Question, </font></font>\n",
    "  </a>\n",
    "    What is chaos? Chaos = Order  and  Chaos ≠ Simple.\n",
    "<br>\n",
    "[src](https://ichef.bbci.co.uk/images/ic/1920xn/p02vhqcm.jpg.webp) <br>   \n",
    "<img src=\"imgs/chaos.png\" width=300 />\n",
    "\n",
    "---\n",
    "</summary>\n",
    "\n",
    "1. Visit [site](https://www.eschersite.com/) for further.\n",
    "2. If Escher made music:\n",
    "   -  music is heared and in power rule, with fequency: 20 Hz to 20 kHz, as folllows:<br>\n",
    "   <img src=\"imgs/pitch.png\" />\n",
    "   - as (Roger) Shepard tones,\n",
    "     - pick A400 (A middle C) and add tones above and below;\n",
    "     - all spaced one octave apart.\n",
    "     - Volumes of the other tones decrease in realtion to their distance from this central tone.\n",
    "     <a href=\"https://youtu.be/UR5Uv5F7xCg\"> Separd Tones </a>\n",
    "\n",
    "```\n",
    "Sound fading in and out, illusion and endless ...\n",
    "```\n",
    "  "
   ]
  },
  {
   "cell_type": "code",
   "execution_count": 3,
   "id": "4d626c88-fefc-4653-9b98-0b035f2b6b89",
   "metadata": {},
   "outputs": [
    {
     "data": {
      "image/jpeg": "[encoded data removed]",
      "text/html": [
       "\n",
       "        <iframe\n",
       "            width=\"400\"\n",
       "            height=\"300\"\n",
       "            src=\"https://www.youtube.com/embed/UR5Uv5F7xCg\"\n",
       "            frameborder=\"0\"\n",
       "            allowfullscreen\n",
       "            \n",
       "        ></iframe>\n",
       "        "
      ],
      "text/plain": [
       "<IPython.lib.display.YouTubeVideo at 0x7fbedde824d0>"
      ]
     },
     "execution_count": 3,
     "metadata": {},
     "output_type": "execute_result"
    }
   ],
   "source": [
    "from IPython.display import YouTubeVideo\n",
    "YouTubeVideo(\"UR5Uv5F7xCg\")"
   ]
  },
  {
   "cell_type": "code",
   "execution_count": 13,
   "id": "331e5b7f-7b5e-43ed-aa05-0f0658e2563f",
   "metadata": {},
   "outputs": [
    {
     "data": {
      "image/jpeg": "[encoded data removed]",
      "text/html": [
       "\n",
       "        <iframe\n",
       "            width=\"400\"\n",
       "            height=\"300\"\n",
       "            src=\"https://www.youtube.com/embed/5lUZvNljHU8\"\n",
       "            frameborder=\"0\"\n",
       "            allowfullscreen\n",
       "            \n",
       "        ></iframe>\n",
       "        "
      ],
      "text/plain": [
       "<IPython.lib.display.YouTubeVideo at 0x7fbedde827d0>"
      ]
     },
     "execution_count": 13,
     "metadata": {},
     "output_type": "execute_result"
    }
   ],
   "source": [
    "#site=https://youtu.be/Dn4SCyBmAOo\n",
    "YouTubeVideo(\"5lUZvNljHU8\")"
   ]
  },
  {
   "cell_type": "code",
   "execution_count": null,
   "id": "a74cd6bc-bc28-4ed7-aaaf-85c97902ee2e",
   "metadata": {},
   "outputs": [],
   "source": []
  }
 ],
 "metadata": {
  "kernelspec": {
   "display_name": "Python 3 (ipykernel)",
   "language": "python",
   "name": "python3"
  },
  "language_info": {
   "codemirror_mode": {
    "name": "ipython",
    "version": 3
   },
   "file_extension": ".py",
   "mimetype": "text/x-python",
   "name": "python",
   "nbconvert_exporter": "python",
   "pygments_lexer": "ipython3",
   "version": "3.10.9"
  }
 },
 "nbformat": 4,
 "nbformat_minor": 5
}
