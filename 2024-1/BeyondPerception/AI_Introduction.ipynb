{
  "nbformat": 4,
  "nbformat_minor": 0,
  "metadata": {
    "colab": {
      "provenance": []
    },
    "kernelspec": {
      "name": "python3",
      "display_name": "Python 3"
    },
    "language_info": {
      "name": "python"
    }
  },
  "cells": [
    {
      "cell_type": "code",
      "execution_count": null,
      "metadata": {
        "id": "9E8aOC3nS511"
      },
      "outputs": [],
      "source": []
    },
    {
      "cell_type": "markdown",
      "source": [
        "<details>\n",
        "<summary>\n",
        " <a class=\"btnfire small stroke\"><em class=\"fas fa-chevron-circle-down\"></em>\n",
        "    <font size=\"4em\"><font color=\"brown\"> Open Google colab on Github </font></font>\n",
        "  </a>\n",
        "在 google drive 使用 github 檔案\n",
        " ---\n",
        " </summary>\n",
        "\n",
        "<big>\n",
        "<ol>\n",
        "<li> Sign in <a href=\"https://github.com\">Github</a> and create one's private repository, and upload the colab.\n",
        "上傳檔案到 github 上面\n",
        "<li> Visit <a href=\"https://colab.research.google.com\">[Google Research site]</a> and select <b>GitHub</b> to open one's colab file. 在上述連結中，允許打開 github 檔案.\n",
        "</ol>\n",
        "</details>"
      ],
      "metadata": {
        "id": "JJ2X8L3KoQf6"
      }
    },
    {
      "cell_type": "code",
      "source": [],
      "metadata": {
        "id": "XqpsV2GShUcD"
      },
      "execution_count": null,
      "outputs": []
    },
    {
      "cell_type": "code",
      "source": [],
      "metadata": {
        "id": "vb9eW2FemauN"
      },
      "execution_count": null,
      "outputs": []
    },
    {
      "cell_type": "markdown",
      "source": [
        "Is <font color=\"red\">Booming</font> Generative AI <font color=\"lightblue\">Fading</font> Now?\n",
        "===\n",
        "<Big>\n",
        "GEN AI Requires <b>Brain</b>! 問題就是<b>腦</b><br>\n",
        "\n",
        "<big>\n",
        "<b>Nvidia B200</b><br>\n",
        "<img src=\"https://drive.google.com/uc?export=view&id=1jXef0Zd3f_N2VWeOwkgtvLvspJfDleFR\" width=480 />\n",
        "<br>\n",
        "<p>\n",
        "<b>Groq LPU</b><br>\n",
        "<img src=\"https://drive.google.com/uc?export=view&id=1hph1_ZoZ6FIQQHz7myMxNJFkY8HEIYTz\" width=480 />\n",
        "<br><p>\n",
        "<b><a href=\"https://cerebras.ai/\">CereBras</a> CD-3</b><br>\n",
        "<img src=\"https://drive.google.com/uc?export=view&id=1SmZczA3YsX-LwakfMi-fPBcI7Kkr_b0_\" width=480 />\n",
        "<br>\n",
        "\n",
        "\n",
        "\n"
      ],
      "metadata": {
        "id": "NqB-iF3oUAPY"
      }
    },
    {
      "cell_type": "code",
      "source": [],
      "metadata": {
        "id": "44213kesHdpV"
      },
      "execution_count": null,
      "outputs": []
    },
    {
      "cell_type": "markdown",
      "source": [
        "<details>\n",
        "<summary>\n",
        "<big>\n",
        " <a class=\"btnfire small stroke\"><em class=\"fas fa-chevron-circle-down\"></em>\n",
        "    <font size=\"4em\"><font color=\"brown\"> Question, </font></font>\n",
        "  </a>\n",
        "<b>Who is (are) the chip manufacturer(s) above? 那個廠商製造上述 晶片?</b>\n",
        "</big>\n",
        "\n",
        "\n",
        "---\n",
        "</summary>\n",
        "\n",
        "Right,\n",
        "The first and the last,  <h3><a href=\"https://www.tsmc.com/english\">, 前兩者為台積電:<br>\n",
        "<img src=\"https://drive.google.com/uc?export=view&id=1HAhiVUxEnzWaKJruNaAW4cKFRk2LENll\" width=400 />\n",
        "</a>\n",
        "\n",
        "<br>\n",
        "Proud of Taiwan!</h3>\n",
        "\n",
        "<br>\n",
        "But the last selects <h3>\n",
        "<a href=\"https://semiconductor.samsung.com/foundry/\">\n",
        "<img src=\"https://drive.google.com/uc?export=view&id=1d4iqZ9joHzpXseKtHRpTnY6roq3pKvZJ\" width=400 />\n",
        "</a>\n",
        "\n",
        "---\n",
        "<p>\n",
        "<details>\n",
        "\n",
        "<p>\n",
        "<summary>\n",
        " <a class=\"btnfire small stroke\"><em class=\"fas fa-chevron-circle-down\"></em>\n",
        "    <font size=\"4em\"><font color=\"brown\"> Question, </font></font>\n",
        "  </a>\n",
        "Why Choose <b>Samsung</b> not TMSC, 為何 Cerebras 選擇三星?\n",
        "\n",
        "---\n",
        "</summary>\n",
        "\n",
        "\n",
        "<big> Foundry partnership, Process node, Capacity and yield, <font color=\"brown\">Cost</font>, 夥伴， 工藝節點，產量，成本.\n"
      ],
      "metadata": {
        "id": "R4AoolORXkns"
      }
    },
    {
      "cell_type": "markdown",
      "source": [
        "<big>\n",
        "\n",
        "```\n",
        "火雲邪神:  天下武功，無堅不摧，唯快不破\n",
        "                                    --- 功夫\n",
        "```\n",
        "\n",
        "Concerns\n",
        "---\n",
        "<!-- numbers of Parameters -->\n",
        "1. Speed,\n",
        "2. Size,\n",
        "3. Service Fare\n"
      ],
      "metadata": {
        "id": "ZaV1Pusle1Dz"
      }
    },
    {
      "cell_type": "markdown",
      "source": [
        "<Big>\n",
        "\n",
        "What, Why, When, Who, How"
      ],
      "metadata": {
        "id": "q55PRJzrmiLT"
      }
    },
    {
      "cell_type": "markdown",
      "source": [
        "<big>\n",
        "\n",
        "What\n",
        "---\n",
        "\n",
        "<details>\n",
        "  <summary> To Use or not TO Use</summary>\n",
        "  <details>\n",
        "    <summary> Sketicism, 懷疑論</summary>\n",
        "    Problem Solving or Statistics?\n",
        "  <details>\n",
        "    <summary> Human being Insight, 內涵</summary>\n",
        "     Reflection or Comprehensions?\n",
        "  <details>\n",
        "    <summary> Pragmatism, 實用論</summary>\n",
        "    Powerful Aids or Human-like Intelligence?  \n",
        "</details>\n",
        "</details>\n",
        "</details>\n",
        "</details>\n",
        "\n",
        "\n",
        "\n",
        "\n"
      ],
      "metadata": {
        "id": "Ltm3fchknHGz"
      }
    },
    {
      "cell_type": "markdown",
      "source": [
        "Generations\n",
        "---\n",
        "Now in the second Generations, 2024 正式進入 AI 第二個階段:\n",
        "\n",
        "<img src=\"https://drive.google.com/uc?export=view&id=1zzUGWYqQtvq7C1mduhh1qOS_VHZPHlw2\" width=600 />\n",
        "\n",
        "\n"
      ],
      "metadata": {
        "id": "7Bf15RHfuNzz"
      }
    },
    {
      "cell_type": "markdown",
      "source": [
        "Utilities and Favoritest\n",
        "---\n",
        "\n",
        "Only Free under Consideration\n",
        "\n",
        "\n",
        "<img src=\"https://drive.google.com/uc?export=view&id=1gBx2WjN_aCRcJ60QO5s6DkDqAVV_najI\" width=800 />\n",
        "\n",
        "\n",
        "<p>\n",
        "  <big>\n",
        "  <b>Github colab</b>, chatgpt, <b>gemini</b>, groq (mistrals model), <b>claude</b>, cerebras, ...\n"
      ],
      "metadata": {
        "id": "8CzFxbpaua29"
      }
    },
    {
      "cell_type": "markdown",
      "source": [
        "News, Up to 2024/9\n",
        "==="
      ],
      "metadata": {
        "id": "XYh8VKqMf2CT"
      }
    },
    {
      "cell_type": "markdown",
      "source": [
        "<details>\n",
        "<summary>\n",
        " <a class=\"btnfire small stroke\"><em class=\"fas fa-chevron-circle-down\"></em>\n",
        "    <font size=\"5em\"><font color=\"brown\"> OpenAI: Chatgpt.x ➠ Strawberry (o1) </font></font>\n",
        "  </a>\n",
        "<big>\n",
        "\n",
        "<big>\n",
        "Open is not Open total actually! <p>\n",
        "<big>\n",
        "<b>Brain Thinking</b>\n",
        "<ol>\n",
        "<li> Fast Thinking, mostly for simple questions, 快答;\n",
        "<li> Slow Thinks: engage your prefrontal cortex to tackle complex tasks, 緩思.\n",
        "<ol>\n",
        "\n",
        " ---\n",
        " </summary>\n",
        "\n",
        "\n",
        "<details>\n",
        "<summary>\n",
        "<big>\n",
        "1. Output Tokens ➠ Reason Tokens + Output Tokens.<br>\n",
        "<img src=\"https://drive.google.com/uc?export=view&id=1Ea8b3QOVSzARk5UaOnai9neAiV_ORfxA\" width=800 height=400 />\n",
        "\n",
        "</summary>\n",
        "\n",
        "<details>\n",
        "<summary>\n",
        "2. Answer Search<br>\n",
        "<img src=\"https://drive.google.com/uc?export=view&id=1sK2gRymOQRCJBnxU7n9Ueh0kZfckdYHq\" width=800 height=400 />\n",
        "\n",
        "</summary>\n",
        "\n",
        "<details>\n",
        "<summary>\n",
        "3. Models Performance, start losing performance after just three reflection turns, 黑盒子的模型效能在 (深度學習) 兩層之後的推理運算就會逐次消失:\n",
        "\n",
        "<img src=\"https://drive.google.com/uc?export=view&id=12EnRs2V8QcxOC1lXDLj2bRj_TN6s6VIM\" width=800 />\n",
        "\n",
        "<b>New Model</b>: Evalute, by value network (Q-function) + Own Model, with hyperparameter;\n",
        "$$ Q(h_t,a^i_t)=\\alpha \\tilde Q(h_t,a^i_t) + (1-\\alpha) \\hat Q(h_t,a^i_t)$$\n",
        "模型的效能評估，採取 Q-Agent 和自身模型的評估組合。\n",
        "\n",
        "</summary>\n",
        "\n",
        "<details>\n",
        "<summary>\n",
        "\n",
        "<big><b> </b> </big>\n",
        "\n",
        "<img src=\"https://drive.google.com/uc?export=view&id=19DVoNmtWaLnM3mF6RjJJWOrZ4sUjdmjK\" width=800 />\n",
        "\n",
        "</summary>\n",
        "</details>\n",
        "</details></details></details>"
      ],
      "metadata": {
        "id": "rlRdcqDVfwKF"
      }
    },
    {
      "cell_type": "markdown",
      "source": [],
      "metadata": {
        "id": "XOtAlC0Xt9oJ"
      }
    },
    {
      "cell_type": "markdown",
      "source": [
        "<details>\n",
        "<summary>\n",
        " <a class=\"btnfire small stroke\"><em class=\"fas fa-chevron-circle-down\"></em>\n",
        "    <font size=\"5em\"><font color=\"brown\"> Pixtral Released, 9/2024 </font></font>\n",
        "  </a>\n",
        "<big>\n",
        "\n",
        "<big>\n",
        "by Mistral AI; natural language understanding (NLU), natural language processing (NLP), image recognition, and even creative generation tasks like writing, drawing, and design recommendations highly expected:\n",
        "\n",
        "<img src=\"https://drive.google.com/uc?export=view&id=1ZXBwJlN607wksGArpRmTibcnKFVNZK66\" width=800 />\n",
        "\n",
        "\n",
        " ---\n",
        " </summary>\n",
        "\n",
        "<big>\n",
        "<details>\n",
        "<summary>\n",
        "1. multimodel LLM with 12b parameters\n",
        "</summary>\n",
        "<details>\n",
        "<summary>\n",
        "2. scalable and flexible.<br>\n",
        "</summary>\n",
        "<details>\n",
        "<summary>\n",
        "3. Education: generated inference and text + visual representations;<br>\n",
        "</summary>\n",
        "<details>\n",
        "<summary>\n",
        "4. Healthcare: medical imaging data + patient records;</summary>\n",
        "<details>\n",
        "<summary>\n",
        "5. Design:  text + images.<br>\n",
        "\n",
        "---\n",
        "\n",
        "</summary>\n",
        "\n",
        "<big>\n",
        "Furthermore, Sound and Video Data considered!\n",
        "</details></details></details></details></details></details>"
      ],
      "metadata": {
        "id": "uxv5RW_o5ljg"
      }
    },
    {
      "cell_type": "code",
      "source": [],
      "metadata": {
        "id": "zd3KxBkGWHr8"
      },
      "execution_count": null,
      "outputs": []
    },
    {
      "cell_type": "markdown",
      "source": [
        "<details>\n",
        "<summary>\n",
        " <a class=\"btnfire small stroke\"><em class=\"fas fa-chevron-circle-down\"></em>\n",
        "    <font size=\"5em\"><font color=\"brown\"> Question, </font></font>\n",
        "  </a>\n",
        "\n",
        "<Big>  \n",
        "When, Progress of LLM\n",
        "\n",
        "---\n",
        "</summary>\n",
        "\n",
        "<big>\n",
        "Powerful if survived and procede  \n",
        "\n",
        "<img src=\"https://drive.google.com/uc?export=view&id=1UJGN97IB79VLgoyJadZp0t1KCXlCcKqb\" width=800 />\n",
        "\n"
      ],
      "metadata": {
        "id": "ivCy2s0SM2GM"
      }
    },
    {
      "cell_type": "markdown",
      "source": [
        "<details>\n",
        "<summary>\n",
        " <a class=\"btnfire small stroke\"><em class=\"fas fa-chevron-circle-down\"></em>\n",
        "    <font size=\"5em\"><font color=\"brown\"> Question, </font></font>\n",
        "  </a>\n",
        "\n",
        "<big>  \n",
        "Who, behavior to LLM's\n",
        "\n",
        "\n",
        "---\n",
        "</summary>\n",
        "\n",
        "<big>\n",
        "1. LeCun, Meta AI Chief of Meta,\n",
        "<br>\n",
        "<img src=\"https://drive.google.com/uc?export=view&id=1TFoMhMSV4iza_1V137f3aZLNadYfV3Kd\" width=250 />\n",
        "\n",
        "```\n",
        "LeCun advocating against LLMs;  Don’t work on LLMs;\n",
        "```\n",
        "\n",
        "And now,  You!\n",
        "</details>"
      ],
      "metadata": {
        "id": "MWKEu4WQPiDa"
      }
    },
    {
      "cell_type": "markdown",
      "source": [
        "<details>\n",
        "<summary>\n",
        " <a class=\"btnfire small stroke\"><em class=\"fas fa-chevron-circle-down\"></em>\n",
        "    <font size=\"5em\"><font color=\"brown\"> Fabric </font></font>\n",
        "  </a>\n",
        "\n",
        "<big>  \n",
        "Weave one's LLM's, 編織自己的LLM\n",
        "\n",
        "---\n",
        "</summary>\n",
        "\n",
        "<big>\n",
        "<ol>\n",
        "<li> insall Fabrics: install recent, <b>go</b>, prepair API-keys for setting, (groq, openai, youtube, Mistral for instance, 安裝新版的 `GO`，安裝 fabric，並準備上述的 API-key 設定 frabric:\n",
        "<pre>\n",
        "> go install github.com/danielmiessler/fabric@latest\n",
        "> fabric --setup\n",
        "</pre>\n",
        "<li> test\n",
        "<pre>\n",
        "> yt  \"https://www.youtube.com/watch?v=HHepj3C0g3U\" | fabric --pattern extract_wisdom\n",
        "</pre>\n",
        "</ol>\n",
        "<br>\n",
        "\n",
        "\n",
        "<b>Result</b>\n",
        "<pre>\n",
        "SUMMARY:\n",
        "Philosopher John Vervaeke discusses the significance of wisdom and its relevance in our technology-driven world.\n",
        "\n",
        "IDEAS:\n",
        "- Wisdom is crucial for navigating our complex world\n",
        "- Technological advancements require wisdom\n",
        "...\n",
        "</pre>\n",
        "\n",
        "</details>"
      ],
      "metadata": {
        "id": "crcgOHLcdbHm"
      }
    },
    {
      "cell_type": "code",
      "source": [],
      "metadata": {
        "id": "FY7lkZXLw5rQ"
      },
      "execution_count": null,
      "outputs": []
    },
    {
      "cell_type": "code",
      "source": [],
      "metadata": {
        "id": "pYPubVZCw6rw"
      },
      "execution_count": null,
      "outputs": []
    },
    {
      "cell_type": "code",
      "source": [],
      "metadata": {
        "id": "AoMZc731w7Bx"
      },
      "execution_count": null,
      "outputs": []
    },
    {
      "cell_type": "markdown",
      "source": [
        "<big>\n",
        "\n",
        "---\n",
        "\n",
        "<details>\n",
        "\n",
        "<summary>\n",
        " <a class=\"btnfire small stroke\"><em class=\"fas fa-chevron-circle-down\"></em>\n",
        "    <font size=\"5em\"><font color=\"brown\"> Second Wave of Generative AI\n",
        " </font></font>\n",
        "  </a>\n",
        "\n",
        "<big>\n",
        "Forget LLM's, Look the AI App's Next\n",
        "\n",
        "忘了 LLM， AI 應用程式才是主流\n",
        "---\n",
        "</summary>\n",
        "\n",
        "<big>\n",
        "<details>\n",
        "  <summary>\n",
        "  1. <a href=\"https://vocalremover.org/\">Vocal Remover</a>, Separate voice from music, 旋律和人聲音 分開.\n",
        "  </summary>\n",
        "<details>\n",
        "  <summary>\n",
        "  2. <a href=\"https://www.photoroom.com/\">Photoroom</a>, Create professional images with AI, from mobile and desktop.\n",
        "  </summary>\n",
        "\n",
        "\n",
        "</details>\n",
        "</details></details>"
      ],
      "metadata": {
        "id": "UMv2ckcP3gmk"
      }
    },
    {
      "cell_type": "markdown",
      "source": [],
      "metadata": {
        "id": "OZktWwX0dH4K"
      }
    },
    {
      "cell_type": "code",
      "source": [],
      "metadata": {
        "id": "RCoct8SU82xd"
      },
      "execution_count": null,
      "outputs": []
    },
    {
      "cell_type": "markdown",
      "source": [
        "Reference\n",
        "---\n",
        "1. [SambaNova, Cerebras, and Groq Clash Over Token Speed in Wake of OpenAI o1 Launch](https://analyticsindiamag.com/ai-origins-evolution/sambanova-cerebras-and-groq-clash-over-token-speed-in-wake-of-openai-o1-launch/)\n",
        "2. [LeCun's Talk](https://analyticsindiamag.com/ai-news-updates/yann-lecun-advices-students-getting-into-ai-space-to-not-work-on-llms/)\n",
        "3. [OpenAI, New o1 Model](https://medium.com/@ignacio.de.gregorio.noblejas/pro-review-of-openais-new-o1-models-03fd56971b1d)\n",
        "4. [Fabric Introduction](https://beingpax.medium.com/why-fabric-ai-can-change-the-way-you-use-ai-973e725354da)"
      ],
      "metadata": {
        "id": "jHSMpt_kGnx3"
      }
    },
    {
      "cell_type": "markdown",
      "source": [
        "Facts\n",
        "---"
      ],
      "metadata": {
        "id": "BKJziSO3QGuU"
      }
    },
    {
      "cell_type": "markdown",
      "source": [
        "<details>\n",
        "<summary>\n",
        " <a class=\"btnfire small stroke\"><em class=\"fas fa-chevron-circle-down\"></em>\n",
        "    <font size=\"5em\"><font color=\"brown\"> 中央社新聞 </font></font>\n",
        "  </a>\n",
        "  \n",
        "<Big>由於美國的科技封鎖，中國電子業突飛猛進，可以自行製造 8 奈米晶片的 DUV</big>\n",
        "\n",
        "\n",
        "---\n",
        "</summary>\n",
        "\n",
        "<img src=\"https://drive.google.com/uc?export=view&id=14IkRb0JWKnNQWoaegpSUYZRab4Mt1HCh\" width=800 />\n",
        "\n",
        "<big>\n",
        "\n",
        "From Wikipedia\n",
        "---\n",
        "\n",
        "<big>\n",
        "<pre>\n",
        "7 nm Process  \n",
        "</pre>\n",
        "\n",
        "<table>\n",
        "<th>Calculated Value</th><th>nm</th>\n",
        "<tr><td>Minimum half pitch (Flash, MPU fin, LGAA)</td><td>15</td>\n",
        "<tr><td>Minimum required overlay (OL) (DRAM, Flash, MPU)</td><td>3.6</td></tr>\n",
        "<tr><td>Gate pitch</td><td>54</td></tr>\n",
        "<tr><td>Gate length</td><td>20</td></tr>\n",
        "</table>"
      ],
      "metadata": {
        "id": "pv4JURM8tJge"
      }
    },
    {
      "cell_type": "markdown",
      "source": [
        "Using LLM\n",
        "==="
      ],
      "metadata": {
        "id": "rG4WJasatDFe"
      }
    },
    {
      "cell_type": "markdown",
      "source": [
        "<details>\n",
        "<summary>\n",
        "<Big>\n",
        "<font size=\"5em\">\n",
        " <a class=\"btnfire small stroke\"><em class=\"fas fa-chevron-circle-down\"></em>\n",
        "    Github Repository, PyS<sup>3</sup>DE, Demo\n",
        "  <br>  \n",
        "\n",
        "</a>\n",
        "\n",
        "---\n",
        "</summary>\n",
        "  \n",
        "  <big>\n",
        "  <details>\n",
        "     <summary>\n",
        "       1. upload project to Github, named PyS<sup>3</sup>DE, here; 上傳所有檔案和目錄.\n",
        "     </summary>\n",
        "  <details>\n",
        "     <summary>\n",
        "       2. Query the Recent process by <a href=\"https://arxiv.org/abs/2307.14852\">ArcGPT</a>; 查詢最近的發展\n",
        "     </summary>\n",
        "  <details>\n",
        "     <summary>\n",
        "       3. Prompt for new schemes, by copilot for instance; 開發 應用程式,\n",
        "     </summary>   \n",
        "</details>\n",
        "</details>\n",
        "</details>"
      ],
      "metadata": {
        "id": "rQUh9M9JBcQ8"
      }
    },
    {
      "cell_type": "code",
      "source": [],
      "metadata": {
        "id": "ezB0C4t7EoRD"
      },
      "execution_count": null,
      "outputs": []
    },
    {
      "cell_type": "markdown",
      "source": [
        "<details>\n",
        "<summary>\n",
        "<Big>\n",
        "<font size=\"4em\">\n",
        " <a class=\"btnfire small stroke\"><em class=\"fas fa-chevron-circle-down\"></em>\n",
        "    Personal AI Environment\n",
        "  <br>  \n",
        "\n",
        "設置個人使用環境,  \n",
        "  <img src=\"https://drive.google.com/uc?export=view&id=1LmSfw8P5W92D3NCH6aEx3piJ83ItXSBb\" width=800 />\n",
        "</a>\n",
        "</Big>\n",
        "\n",
        "---\n",
        "</summary>\n",
        "\n",
        "  <details>\n",
        "     <summary>\n",
        "      1. Microsoft Visual Studio, with Github copilot, codegpt\n",
        "     </summary>\n",
        "   <details>\n",
        "     <summary>\n",
        "      2. Google drive, with colaboratory plugin\n",
        "     </summary>\n",
        "   <details>\n",
        "     <summary>\n",
        "      3. Github, smartgit\n",
        "     </summary>\n",
        "</details>  \n",
        "</details>      \n",
        "</details>\n",
        "</details>\n",
        "\n"
      ],
      "metadata": {
        "id": "0outp44MrHjc"
      }
    },
    {
      "cell_type": "markdown",
      "source": [
        "<details>\n",
        "<summary>\n",
        "\n",
        "<Big>\n",
        "\n",
        "<font size=\"6em\">\n",
        " <a class=\"btnfire small stroke\"><em class=\"fas fa-chevron-circle-down\"></em>\n",
        "    <a href=\"https://cerebras.ai\">[cerebras]</a>: Upload artifact Demo\n",
        "  </a>\n",
        "  上傳函式示範\n",
        "</Big>\n",
        "\n",
        "---\n",
        "</summary>\n",
        "\n",
        "<font size=\"5em\">\n",
        "Create <b>Upload</b> app with 2 inputs, one for sequence number ond for <i>pdf</i> file upload; list if successful. 要求產生具有兩個輸入項目的應用程式產生，一個輸入學號，一個上傳檔案.\n",
        "\n",
        "\n",
        "  <details>\n",
        "     <summary>\n",
        "       1. created but not satisfied! (no more than 3 seconds); 剎那之間完成\n",
        "     </summary>  \n",
        "  <details>\n",
        "     <summary>\n",
        "       2. Prompts correctly and Modify. (More than half hour), 修改超過半個小時.\n",
        "     </summary>\n",
        "  <details>\n",
        "     <summary>\n",
        "       3. Visit <a href=\"http://120.126.22.75:8501\">Homework, How you Utlize LLM</a>;\n",
        "       請使用上列連結輸入，以你的學號為名字的檔案，上傳 這次的作業.\n",
        "     </summary>\n",
        "</details>\n",
        "</details>\n",
        "</details>\n",
        "</details>"
      ],
      "metadata": {
        "id": "5A0-XFw8QAwV"
      }
    },
    {
      "cell_type": "code",
      "source": [],
      "metadata": {
        "id": "2BoR5RfMVSNQ"
      },
      "execution_count": null,
      "outputs": []
    }
  ]
}